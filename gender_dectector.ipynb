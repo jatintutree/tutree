{
 "cells": [
  {
   "cell_type": "code",
   "execution_count": 9,
   "id": "3a2dc51f-1d03-41f1-979d-567777b1116c",
   "metadata": {},
   "outputs": [
    {
     "name": "stdout",
     "output_type": "stream",
     "text": [
      "Collecting nameparser\n",
      "  Downloading nameparser-1.1.3-py2.py3-none-any.whl.metadata (6.1 kB)\n",
      "Downloading nameparser-1.1.3-py2.py3-none-any.whl (24 kB)\n",
      "Installing collected packages: nameparser\n",
      "Successfully installed nameparser-1.1.3\n",
      "Note: you may need to restart the kernel to use updated packages.\n"
     ]
    }
   ],
   "source": [
    "pip install nameparser"
   ]
  },
  {
   "cell_type": "code",
   "execution_count": 11,
   "id": "288b646a-3188-4f1f-a393-3221ec2f95b2",
   "metadata": {},
   "outputs": [],
   "source": [
    "from genderize import Genderize\n",
    "from nameparser import HumanName as hn"
   ]
  },
  {
   "cell_type": "code",
   "execution_count": 23,
   "id": "a5a511be-5ab0-4fc4-9449-82e29c0f63f2",
   "metadata": {},
   "outputs": [
    {
     "name": "stdin",
     "output_type": "stream",
     "text": [
      "Enter a name:  john\n"
     ]
    },
    {
     "ename": "GenderizeException",
     "evalue": "('Request limit reached', 429, {'Server': 'nginx/1.16.1', 'Date': 'Tue, 16 Jul 2024 12:07:05 GMT', 'Content-Type': 'application/json', 'Content-Length': '33', 'Connection': 'keep-alive', 'access-control-allow-credentials': 'true', 'access-control-allow-origin': '*', 'access-control-expose-headers': 'x-rate-limit-limit,x-rate-limit-remaining,x-rate-limit-reset', 'cache-control': 'max-age=0, private, must-revalidate', 'x-rate-limit-limit': '100', 'x-rate-limit-remaining': '0', 'x-rate-limit-reset': '42775', 'x-request-id': 'F-KwGBy6z_FgUrweF9CB'})",
     "output_type": "error",
     "traceback": [
      "\u001b[1;31m---------------------------------------------------------------------------\u001b[0m",
      "\u001b[1;31mGenderizeException\u001b[0m                        Traceback (most recent call last)",
      "Cell \u001b[1;32mIn[23], line 9\u001b[0m\n\u001b[0;32m      7\u001b[0m name \u001b[38;5;241m=\u001b[39m \u001b[38;5;28minput\u001b[39m(\u001b[38;5;124m\"\u001b[39m\u001b[38;5;124mEnter a name: \u001b[39m\u001b[38;5;124m\"\u001b[39m)\n\u001b[0;32m      8\u001b[0m parsed_name \u001b[38;5;241m=\u001b[39m HumanName(name)\n\u001b[1;32m----> 9\u001b[0m gender \u001b[38;5;241m=\u001b[39m genderize\u001b[38;5;241m.\u001b[39mget([parsed_name\u001b[38;5;241m.\u001b[39mfirst])\n\u001b[0;32m     10\u001b[0m \u001b[38;5;28mprint\u001b[39m(gender)\n",
      "File \u001b[1;32m~\\anaconda3\\Lib\\site-packages\\genderize\\__init__.py:96\u001b[0m, in \u001b[0;36mGenderize.get\u001b[1;34m(self, names, country_id, language_id, retheader)\u001b[0m\n\u001b[0;32m     66\u001b[0m \u001b[38;5;28;01mdef\u001b[39;00m \u001b[38;5;21mget\u001b[39m(\u001b[38;5;28mself\u001b[39m, names, country_id\u001b[38;5;241m=\u001b[39m\u001b[38;5;28;01mNone\u001b[39;00m, language_id\u001b[38;5;241m=\u001b[39m\u001b[38;5;28;01mNone\u001b[39;00m, retheader\u001b[38;5;241m=\u001b[39m\u001b[38;5;28;01mFalse\u001b[39;00m):\n\u001b[0;32m     67\u001b[0m \u001b[38;5;250m    \u001b[39m\u001b[38;5;124;03m\"\"\"\u001b[39;00m\n\u001b[0;32m     68\u001b[0m \u001b[38;5;124;03m    Look up gender for a list of names.\u001b[39;00m\n\u001b[0;32m     69\u001b[0m \u001b[38;5;124;03m    Can optionally refine search with locale info.\u001b[39;00m\n\u001b[1;32m   (...)\u001b[0m\n\u001b[0;32m     94\u001b[0m \u001b[38;5;124;03m    :raises GenderizeException: if API server returns HTTP error code.\u001b[39;00m\n\u001b[0;32m     95\u001b[0m \u001b[38;5;124;03m    \"\"\"\u001b[39;00m\n\u001b[1;32m---> 96\u001b[0m     responses \u001b[38;5;241m=\u001b[39m [\n\u001b[0;32m     97\u001b[0m         \u001b[38;5;28mself\u001b[39m\u001b[38;5;241m.\u001b[39m_get_chunk(name_chunk, country_id, language_id)\n\u001b[0;32m     98\u001b[0m         \u001b[38;5;28;01mfor\u001b[39;00m name_chunk\n\u001b[0;32m     99\u001b[0m         \u001b[38;5;129;01min\u001b[39;00m _chunked(names, Genderize\u001b[38;5;241m.\u001b[39mBATCH_SIZE)\n\u001b[0;32m    100\u001b[0m     ]\n\u001b[0;32m    101\u001b[0m     data \u001b[38;5;241m=\u001b[39m \u001b[38;5;28mlist\u001b[39m(chain\u001b[38;5;241m.\u001b[39mfrom_iterable(\n\u001b[0;32m    102\u001b[0m         response\u001b[38;5;241m.\u001b[39mdata \u001b[38;5;28;01mfor\u001b[39;00m response \u001b[38;5;129;01min\u001b[39;00m responses\n\u001b[0;32m    103\u001b[0m     ))\n\u001b[0;32m    104\u001b[0m     \u001b[38;5;28;01mif\u001b[39;00m retheader:\n",
      "File \u001b[1;32m~\\anaconda3\\Lib\\site-packages\\genderize\\__init__.py:97\u001b[0m, in \u001b[0;36m<listcomp>\u001b[1;34m(.0)\u001b[0m\n\u001b[0;32m     66\u001b[0m \u001b[38;5;28;01mdef\u001b[39;00m \u001b[38;5;21mget\u001b[39m(\u001b[38;5;28mself\u001b[39m, names, country_id\u001b[38;5;241m=\u001b[39m\u001b[38;5;28;01mNone\u001b[39;00m, language_id\u001b[38;5;241m=\u001b[39m\u001b[38;5;28;01mNone\u001b[39;00m, retheader\u001b[38;5;241m=\u001b[39m\u001b[38;5;28;01mFalse\u001b[39;00m):\n\u001b[0;32m     67\u001b[0m \u001b[38;5;250m    \u001b[39m\u001b[38;5;124;03m\"\"\"\u001b[39;00m\n\u001b[0;32m     68\u001b[0m \u001b[38;5;124;03m    Look up gender for a list of names.\u001b[39;00m\n\u001b[0;32m     69\u001b[0m \u001b[38;5;124;03m    Can optionally refine search with locale info.\u001b[39;00m\n\u001b[1;32m   (...)\u001b[0m\n\u001b[0;32m     94\u001b[0m \u001b[38;5;124;03m    :raises GenderizeException: if API server returns HTTP error code.\u001b[39;00m\n\u001b[0;32m     95\u001b[0m \u001b[38;5;124;03m    \"\"\"\u001b[39;00m\n\u001b[0;32m     96\u001b[0m     responses \u001b[38;5;241m=\u001b[39m [\n\u001b[1;32m---> 97\u001b[0m         \u001b[38;5;28mself\u001b[39m\u001b[38;5;241m.\u001b[39m_get_chunk(name_chunk, country_id, language_id)\n\u001b[0;32m     98\u001b[0m         \u001b[38;5;28;01mfor\u001b[39;00m name_chunk\n\u001b[0;32m     99\u001b[0m         \u001b[38;5;129;01min\u001b[39;00m _chunked(names, Genderize\u001b[38;5;241m.\u001b[39mBATCH_SIZE)\n\u001b[0;32m    100\u001b[0m     ]\n\u001b[0;32m    101\u001b[0m     data \u001b[38;5;241m=\u001b[39m \u001b[38;5;28mlist\u001b[39m(chain\u001b[38;5;241m.\u001b[39mfrom_iterable(\n\u001b[0;32m    102\u001b[0m         response\u001b[38;5;241m.\u001b[39mdata \u001b[38;5;28;01mfor\u001b[39;00m response \u001b[38;5;129;01min\u001b[39;00m responses\n\u001b[0;32m    103\u001b[0m     ))\n\u001b[0;32m    104\u001b[0m     \u001b[38;5;28;01mif\u001b[39;00m retheader:\n",
      "File \u001b[1;32m~\\anaconda3\\Lib\\site-packages\\genderize\\__init__.py:149\u001b[0m, in \u001b[0;36mGenderize._get_chunk\u001b[1;34m(self, name_chunk, country_id, language_id)\u001b[0m\n\u001b[0;32m    147\u001b[0m     \u001b[38;5;28;01mreturn\u001b[39;00m _GenderizeResponse(data\u001b[38;5;241m=\u001b[39mdecoded, headers\u001b[38;5;241m=\u001b[39mresponse\u001b[38;5;241m.\u001b[39mheaders)\n\u001b[0;32m    148\u001b[0m \u001b[38;5;28;01melse\u001b[39;00m:\n\u001b[1;32m--> 149\u001b[0m     \u001b[38;5;28;01mraise\u001b[39;00m GenderizeException(\n\u001b[0;32m    150\u001b[0m         decoded[\u001b[38;5;124m'\u001b[39m\u001b[38;5;124merror\u001b[39m\u001b[38;5;124m'\u001b[39m],\n\u001b[0;32m    151\u001b[0m         response\u001b[38;5;241m.\u001b[39mstatus_code,\n\u001b[0;32m    152\u001b[0m         response\u001b[38;5;241m.\u001b[39mheaders)\n",
      "\u001b[1;31mGenderizeException\u001b[0m: ('Request limit reached', 429, {'Server': 'nginx/1.16.1', 'Date': 'Tue, 16 Jul 2024 12:07:05 GMT', 'Content-Type': 'application/json', 'Content-Length': '33', 'Connection': 'keep-alive', 'access-control-allow-credentials': 'true', 'access-control-allow-origin': '*', 'access-control-expose-headers': 'x-rate-limit-limit,x-rate-limit-remaining,x-rate-limit-reset', 'cache-control': 'max-age=0, private, must-revalidate', 'x-rate-limit-limit': '100', 'x-rate-limit-remaining': '0', 'x-rate-limit-reset': '42775', 'x-request-id': 'F-KwGBy6z_FgUrweF9CB'})"
     ]
    }
   ],
   "source": [
    "from genderize import Genderize\n",
    "from nameparser import HumanName\n",
    "\n",
    "genderize = Genderize()\n",
    "\n",
    "for i in range(3):\n",
    "    name = input(\"Enter a name: \")\n",
    "    parsed_name = HumanName(name)\n",
    "    gender = genderize.get([parsed_name.first])\n",
    "    print(gender)\n"
   ]
  },
  {
   "cell_type": "code",
   "execution_count": 27,
   "id": "4b88b42a-059c-4ef9-8dc1-c942105b730c",
   "metadata": {},
   "outputs": [
    {
     "ename": "GenderizeException",
     "evalue": "('Request limit reached', 429, {'Server': 'nginx/1.16.1', 'Date': 'Tue, 16 Jul 2024 12:08:53 GMT', 'Content-Type': 'application/json', 'Content-Length': '33', 'Connection': 'keep-alive', 'access-control-allow-credentials': 'true', 'access-control-allow-origin': '*', 'access-control-expose-headers': 'x-rate-limit-limit,x-rate-limit-remaining,x-rate-limit-reset', 'cache-control': 'max-age=0, private, must-revalidate', 'x-rate-limit-limit': '100', 'x-rate-limit-remaining': '0', 'x-rate-limit-reset': '42667', 'x-request-id': 'F-KwMUGh4ePT9ccR-Ohk'})",
     "output_type": "error",
     "traceback": [
      "\u001b[1;31m---------------------------------------------------------------------------\u001b[0m",
      "\u001b[1;31mGenderizeException\u001b[0m                        Traceback (most recent call last)",
      "Cell \u001b[1;32mIn[27], line 12\u001b[0m\n\u001b[0;32m     10\u001b[0m \u001b[38;5;28;01mfor\u001b[39;00m full_name \u001b[38;5;129;01min\u001b[39;00m df\u001b[38;5;241m.\u001b[39mname:\n\u001b[0;32m     11\u001b[0m     first_name \u001b[38;5;241m=\u001b[39m HumanName(full_name)\u001b[38;5;241m.\u001b[39mfirst\n\u001b[1;32m---> 12\u001b[0m     gender_prediction \u001b[38;5;241m=\u001b[39m genderize\u001b[38;5;241m.\u001b[39mget([first_name])\n\u001b[0;32m     13\u001b[0m     \u001b[38;5;28mprint\u001b[39m(gender_prediction)\n",
      "File \u001b[1;32m~\\anaconda3\\Lib\\site-packages\\genderize\\__init__.py:96\u001b[0m, in \u001b[0;36mGenderize.get\u001b[1;34m(self, names, country_id, language_id, retheader)\u001b[0m\n\u001b[0;32m     66\u001b[0m \u001b[38;5;28;01mdef\u001b[39;00m \u001b[38;5;21mget\u001b[39m(\u001b[38;5;28mself\u001b[39m, names, country_id\u001b[38;5;241m=\u001b[39m\u001b[38;5;28;01mNone\u001b[39;00m, language_id\u001b[38;5;241m=\u001b[39m\u001b[38;5;28;01mNone\u001b[39;00m, retheader\u001b[38;5;241m=\u001b[39m\u001b[38;5;28;01mFalse\u001b[39;00m):\n\u001b[0;32m     67\u001b[0m \u001b[38;5;250m    \u001b[39m\u001b[38;5;124;03m\"\"\"\u001b[39;00m\n\u001b[0;32m     68\u001b[0m \u001b[38;5;124;03m    Look up gender for a list of names.\u001b[39;00m\n\u001b[0;32m     69\u001b[0m \u001b[38;5;124;03m    Can optionally refine search with locale info.\u001b[39;00m\n\u001b[1;32m   (...)\u001b[0m\n\u001b[0;32m     94\u001b[0m \u001b[38;5;124;03m    :raises GenderizeException: if API server returns HTTP error code.\u001b[39;00m\n\u001b[0;32m     95\u001b[0m \u001b[38;5;124;03m    \"\"\"\u001b[39;00m\n\u001b[1;32m---> 96\u001b[0m     responses \u001b[38;5;241m=\u001b[39m [\n\u001b[0;32m     97\u001b[0m         \u001b[38;5;28mself\u001b[39m\u001b[38;5;241m.\u001b[39m_get_chunk(name_chunk, country_id, language_id)\n\u001b[0;32m     98\u001b[0m         \u001b[38;5;28;01mfor\u001b[39;00m name_chunk\n\u001b[0;32m     99\u001b[0m         \u001b[38;5;129;01min\u001b[39;00m _chunked(names, Genderize\u001b[38;5;241m.\u001b[39mBATCH_SIZE)\n\u001b[0;32m    100\u001b[0m     ]\n\u001b[0;32m    101\u001b[0m     data \u001b[38;5;241m=\u001b[39m \u001b[38;5;28mlist\u001b[39m(chain\u001b[38;5;241m.\u001b[39mfrom_iterable(\n\u001b[0;32m    102\u001b[0m         response\u001b[38;5;241m.\u001b[39mdata \u001b[38;5;28;01mfor\u001b[39;00m response \u001b[38;5;129;01min\u001b[39;00m responses\n\u001b[0;32m    103\u001b[0m     ))\n\u001b[0;32m    104\u001b[0m     \u001b[38;5;28;01mif\u001b[39;00m retheader:\n",
      "File \u001b[1;32m~\\anaconda3\\Lib\\site-packages\\genderize\\__init__.py:97\u001b[0m, in \u001b[0;36m<listcomp>\u001b[1;34m(.0)\u001b[0m\n\u001b[0;32m     66\u001b[0m \u001b[38;5;28;01mdef\u001b[39;00m \u001b[38;5;21mget\u001b[39m(\u001b[38;5;28mself\u001b[39m, names, country_id\u001b[38;5;241m=\u001b[39m\u001b[38;5;28;01mNone\u001b[39;00m, language_id\u001b[38;5;241m=\u001b[39m\u001b[38;5;28;01mNone\u001b[39;00m, retheader\u001b[38;5;241m=\u001b[39m\u001b[38;5;28;01mFalse\u001b[39;00m):\n\u001b[0;32m     67\u001b[0m \u001b[38;5;250m    \u001b[39m\u001b[38;5;124;03m\"\"\"\u001b[39;00m\n\u001b[0;32m     68\u001b[0m \u001b[38;5;124;03m    Look up gender for a list of names.\u001b[39;00m\n\u001b[0;32m     69\u001b[0m \u001b[38;5;124;03m    Can optionally refine search with locale info.\u001b[39;00m\n\u001b[1;32m   (...)\u001b[0m\n\u001b[0;32m     94\u001b[0m \u001b[38;5;124;03m    :raises GenderizeException: if API server returns HTTP error code.\u001b[39;00m\n\u001b[0;32m     95\u001b[0m \u001b[38;5;124;03m    \"\"\"\u001b[39;00m\n\u001b[0;32m     96\u001b[0m     responses \u001b[38;5;241m=\u001b[39m [\n\u001b[1;32m---> 97\u001b[0m         \u001b[38;5;28mself\u001b[39m\u001b[38;5;241m.\u001b[39m_get_chunk(name_chunk, country_id, language_id)\n\u001b[0;32m     98\u001b[0m         \u001b[38;5;28;01mfor\u001b[39;00m name_chunk\n\u001b[0;32m     99\u001b[0m         \u001b[38;5;129;01min\u001b[39;00m _chunked(names, Genderize\u001b[38;5;241m.\u001b[39mBATCH_SIZE)\n\u001b[0;32m    100\u001b[0m     ]\n\u001b[0;32m    101\u001b[0m     data \u001b[38;5;241m=\u001b[39m \u001b[38;5;28mlist\u001b[39m(chain\u001b[38;5;241m.\u001b[39mfrom_iterable(\n\u001b[0;32m    102\u001b[0m         response\u001b[38;5;241m.\u001b[39mdata \u001b[38;5;28;01mfor\u001b[39;00m response \u001b[38;5;129;01min\u001b[39;00m responses\n\u001b[0;32m    103\u001b[0m     ))\n\u001b[0;32m    104\u001b[0m     \u001b[38;5;28;01mif\u001b[39;00m retheader:\n",
      "File \u001b[1;32m~\\anaconda3\\Lib\\site-packages\\genderize\\__init__.py:149\u001b[0m, in \u001b[0;36mGenderize._get_chunk\u001b[1;34m(self, name_chunk, country_id, language_id)\u001b[0m\n\u001b[0;32m    147\u001b[0m     \u001b[38;5;28;01mreturn\u001b[39;00m _GenderizeResponse(data\u001b[38;5;241m=\u001b[39mdecoded, headers\u001b[38;5;241m=\u001b[39mresponse\u001b[38;5;241m.\u001b[39mheaders)\n\u001b[0;32m    148\u001b[0m \u001b[38;5;28;01melse\u001b[39;00m:\n\u001b[1;32m--> 149\u001b[0m     \u001b[38;5;28;01mraise\u001b[39;00m GenderizeException(\n\u001b[0;32m    150\u001b[0m         decoded[\u001b[38;5;124m'\u001b[39m\u001b[38;5;124merror\u001b[39m\u001b[38;5;124m'\u001b[39m],\n\u001b[0;32m    151\u001b[0m         response\u001b[38;5;241m.\u001b[39mstatus_code,\n\u001b[0;32m    152\u001b[0m         response\u001b[38;5;241m.\u001b[39mheaders)\n",
      "\u001b[1;31mGenderizeException\u001b[0m: ('Request limit reached', 429, {'Server': 'nginx/1.16.1', 'Date': 'Tue, 16 Jul 2024 12:08:53 GMT', 'Content-Type': 'application/json', 'Content-Length': '33', 'Connection': 'keep-alive', 'access-control-allow-credentials': 'true', 'access-control-allow-origin': '*', 'access-control-expose-headers': 'x-rate-limit-limit,x-rate-limit-remaining,x-rate-limit-reset', 'cache-control': 'max-age=0, private, must-revalidate', 'x-rate-limit-limit': '100', 'x-rate-limit-remaining': '0', 'x-rate-limit-reset': '42667', 'x-request-id': 'F-KwMUGh4ePT9ccR-Ohk'})"
     ]
    }
   ],
   "source": [
    "import pandas as pd\n",
    "from genderize import Genderize\n",
    "from nameparser import HumanName\n",
    "\n",
    "# Sample data frame\n",
    "df = pd.read_csv(\"C://Users/CPS/Downloads/leads30to45_12Apr.csv\")\n",
    "\n",
    "genderize = Genderize()\n",
    "\n",
    "for full_name in df.name:\n",
    "    first_name = HumanName(full_name).first\n",
    "    gender_prediction = genderize.get([first_name])\n",
    "    print(gender_prediction)\n"
   ]
  },
  {
   "cell_type": "code",
   "execution_count": 19,
   "id": "bfadb69e-9d55-420d-9390-4aa00ac6d65a",
   "metadata": {},
   "outputs": [
    {
     "data": {
      "text/plain": [
       "0        Christian Hernandez\n",
       "1          Jessica L Denomme\n",
       "2              Daniel Quiroz\n",
       "3             Breanna Wilson\n",
       "4             Isaiah W Brown\n",
       "                ...         \n",
       "10394     Christien M Taylor\n",
       "10395            Adam A Hall\n",
       "10396     Charles H Horne Sr\n",
       "10397         Justin W Davis\n",
       "10398        Steven M Obryan\n",
       "Name: name, Length: 10399, dtype: object"
      ]
     },
     "execution_count": 19,
     "metadata": {},
     "output_type": "execute_result"
    }
   ],
   "source": [
    "df.name"
   ]
  },
  {
   "cell_type": "code",
   "execution_count": null,
   "id": "db8cf282-5e7c-4a7b-a8c8-e3437fccb928",
   "metadata": {},
   "outputs": [],
   "source": []
  }
 ],
 "metadata": {
  "kernelspec": {
   "display_name": "Python 3 (ipykernel)",
   "language": "python",
   "name": "python3"
  },
  "language_info": {
   "codemirror_mode": {
    "name": "ipython",
    "version": 3
   },
   "file_extension": ".py",
   "mimetype": "text/x-python",
   "name": "python",
   "nbconvert_exporter": "python",
   "pygments_lexer": "ipython3",
   "version": "3.11.7"
  }
 },
 "nbformat": 4,
 "nbformat_minor": 5
}
