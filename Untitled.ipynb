{
 "cells": [
  {
   "cell_type": "code",
   "execution_count": 23,
   "id": "5a5cf343-ffda-41ad-9e71-d53affad8eb6",
   "metadata": {},
   "outputs": [],
   "source": [
    "import pandas as pd\n",
    "import numpy as np\n",
    "import matplotlib.pyplot as plt\n",
    "\n",
    "from sklearn.model_selection import train_test_split\n",
    "from sklearn.preprocessing import LabelEncoder\n",
    "from sklearn.feature_extraction.text import TfidfVectorizer"
   ]
  },
  {
   "cell_type": "code",
   "execution_count": 2,
   "id": "5e2ba125-be53-4d22-ad4c-7d79f6c0c253",
   "metadata": {},
   "outputs": [],
   "source": [
    "df = pd.read_csv(\"C://Users/CPS/Downloads/company details - company_details.csv\")"
   ]
  },
  {
   "cell_type": "code",
   "execution_count": 4,
   "id": "0fbff6dc-d3a7-4a6a-bb86-a01233700616",
   "metadata": {},
   "outputs": [
    {
     "data": {
      "text/html": [
       "<div>\n",
       "<style scoped>\n",
       "    .dataframe tbody tr th:only-of-type {\n",
       "        vertical-align: middle;\n",
       "    }\n",
       "\n",
       "    .dataframe tbody tr th {\n",
       "        vertical-align: top;\n",
       "    }\n",
       "\n",
       "    .dataframe thead th {\n",
       "        text-align: right;\n",
       "    }\n",
       "</style>\n",
       "<table border=\"1\" class=\"dataframe\">\n",
       "  <thead>\n",
       "    <tr style=\"text-align: right;\">\n",
       "      <th></th>\n",
       "      <th>id</th>\n",
       "      <th>org_name</th>\n",
       "      <th>about</th>\n",
       "      <th>domain_value</th>\n",
       "      <th>founder</th>\n",
       "      <th>employees</th>\n",
       "      <th>headquaters</th>\n",
       "      <th>founded</th>\n",
       "      <th>valid</th>\n",
       "      <th>Unnamed: 9</th>\n",
       "    </tr>\n",
       "  </thead>\n",
       "  <tbody>\n",
       "    <tr>\n",
       "      <th>0</th>\n",
       "      <td>21909</td>\n",
       "      <td>Williamson Health</td>\n",
       "      <td>Unfortunately, without current context, I cann...</td>\n",
       "      <td>NaN</td>\n",
       "      <td>NaN</td>\n",
       "      <td>NaN</td>\n",
       "      <td>NaN</td>\n",
       "      <td>NaN</td>\n",
       "      <td>no</td>\n",
       "      <td>Abhishek=1 to 500\\nBrijendra=501 to 1000\\nShiv...</td>\n",
       "    </tr>\n",
       "    <tr>\n",
       "      <th>1</th>\n",
       "      <td>21261</td>\n",
       "      <td>SSP</td>\n",
       "      <td>A brief overview of the company's operations, ...</td>\n",
       "      <td>https://www.sspcompanywebsite.com</td>\n",
       "      <td>[Founder's Name]</td>\n",
       "      <td>Number</td>\n",
       "      <td>City, State</td>\n",
       "      <td>Year</td>\n",
       "      <td>no</td>\n",
       "      <td>NaN</td>\n",
       "    </tr>\n",
       "    <tr>\n",
       "      <th>2</th>\n",
       "      <td>23379</td>\n",
       "      <td>Epic Oncology Staffing</td>\n",
       "      <td>The company specializes in providing staffing ...</td>\n",
       "      <td>Not Available</td>\n",
       "      <td>Not Available</td>\n",
       "      <td>Not Available</td>\n",
       "      <td>Not Available</td>\n",
       "      <td>Not Available</td>\n",
       "      <td>partial</td>\n",
       "      <td>NaN</td>\n",
       "    </tr>\n",
       "    <tr>\n",
       "      <th>3</th>\n",
       "      <td>16449</td>\n",
       "      <td>Lee Company</td>\n",
       "      <td>A brief overview of Lee Company's operations, ...</td>\n",
       "      <td>https://www.leecompany.com</td>\n",
       "      <td>John Doe</td>\n",
       "      <td>Number</td>\n",
       "      <td>City, State</td>\n",
       "      <td>Year</td>\n",
       "      <td>no</td>\n",
       "      <td>NaN</td>\n",
       "    </tr>\n",
       "    <tr>\n",
       "      <th>4</th>\n",
       "      <td>10906</td>\n",
       "      <td>Michael Foods Inc.</td>\n",
       "      <td>Michael Foods Inc. is a food processor and dis...</td>\n",
       "      <td>http://www.michaelfoods.com</td>\n",
       "      <td>NaN</td>\n",
       "      <td>NaN</td>\n",
       "      <td>Minnetonka, MN</td>\n",
       "      <td>1908</td>\n",
       "      <td>yes</td>\n",
       "      <td>NaN</td>\n",
       "    </tr>\n",
       "  </tbody>\n",
       "</table>\n",
       "</div>"
      ],
      "text/plain": [
       "      id                org_name  \\\n",
       "0  21909       Williamson Health   \n",
       "1  21261                     SSP   \n",
       "2  23379  Epic Oncology Staffing   \n",
       "3  16449             Lee Company   \n",
       "4  10906      Michael Foods Inc.   \n",
       "\n",
       "                                               about  \\\n",
       "0  Unfortunately, without current context, I cann...   \n",
       "1  A brief overview of the company's operations, ...   \n",
       "2  The company specializes in providing staffing ...   \n",
       "3  A brief overview of Lee Company's operations, ...   \n",
       "4  Michael Foods Inc. is a food processor and dis...   \n",
       "\n",
       "                        domain_value           founder      employees  \\\n",
       "0                                NaN               NaN            NaN   \n",
       "1  https://www.sspcompanywebsite.com  [Founder's Name]         Number   \n",
       "2                      Not Available     Not Available  Not Available   \n",
       "3         https://www.leecompany.com          John Doe         Number   \n",
       "4        http://www.michaelfoods.com               NaN            NaN   \n",
       "\n",
       "      headquaters        founded    valid  \\\n",
       "0             NaN            NaN       no   \n",
       "1     City, State           Year       no   \n",
       "2   Not Available  Not Available  partial   \n",
       "3     City, State           Year       no   \n",
       "4  Minnetonka, MN           1908      yes   \n",
       "\n",
       "                                          Unnamed: 9  \n",
       "0  Abhishek=1 to 500\\nBrijendra=501 to 1000\\nShiv...  \n",
       "1                                                NaN  \n",
       "2                                                NaN  \n",
       "3                                                NaN  \n",
       "4                                                NaN  "
      ]
     },
     "execution_count": 4,
     "metadata": {},
     "output_type": "execute_result"
    }
   ],
   "source": [
    "df.head()"
   ]
  },
  {
   "cell_type": "code",
   "execution_count": 5,
   "id": "072abcdb-e6c6-4dcc-b6af-8a1785634db8",
   "metadata": {},
   "outputs": [
    {
     "data": {
      "text/plain": [
       "Index(['id', 'org_name', 'about', 'domain_value', 'founder', 'employees',\n",
       "       'headquaters', 'founded', 'valid', 'Unnamed: 9'],\n",
       "      dtype='object')"
      ]
     },
     "execution_count": 5,
     "metadata": {},
     "output_type": "execute_result"
    }
   ],
   "source": [
    "df.columns"
   ]
  },
  {
   "cell_type": "code",
   "execution_count": 6,
   "id": "235c4cc2-9b47-4234-b35c-c27cc32208c0",
   "metadata": {},
   "outputs": [],
   "source": [
    "ready_data = df.drop(columns = ['id', 'org_name', 'domain_value', 'founder', 'employees',\n",
    "       'headquaters', 'founded', 'Unnamed: 9'])"
   ]
  },
  {
   "cell_type": "code",
   "execution_count": 8,
   "id": "e66a5559-54c2-4f00-9529-edcacde09674",
   "metadata": {},
   "outputs": [
    {
     "data": {
      "text/plain": [
       "(3350, 2)"
      ]
     },
     "execution_count": 8,
     "metadata": {},
     "output_type": "execute_result"
    }
   ],
   "source": [
    "ready_data.shape"
   ]
  },
  {
   "cell_type": "code",
   "execution_count": 9,
   "id": "f63cfdc6-7d84-4c9e-a4e7-0ac61ea28c1a",
   "metadata": {},
   "outputs": [],
   "source": [
    "df1 = ready_data.iloc[:47]"
   ]
  },
  {
   "cell_type": "code",
   "execution_count": 10,
   "id": "a257d2e6-db5e-4209-aba4-e4d28f784824",
   "metadata": {},
   "outputs": [
    {
     "data": {
      "text/plain": [
       "(47, 2)"
      ]
     },
     "execution_count": 10,
     "metadata": {},
     "output_type": "execute_result"
    }
   ],
   "source": [
    "df1.shape"
   ]
  },
  {
   "cell_type": "code",
   "execution_count": 14,
   "id": "16ab9705-5095-40eb-9036-d9717392e900",
   "metadata": {},
   "outputs": [
    {
     "data": {
      "text/html": [
       "<div>\n",
       "<style scoped>\n",
       "    .dataframe tbody tr th:only-of-type {\n",
       "        vertical-align: middle;\n",
       "    }\n",
       "\n",
       "    .dataframe tbody tr th {\n",
       "        vertical-align: top;\n",
       "    }\n",
       "\n",
       "    .dataframe thead th {\n",
       "        text-align: right;\n",
       "    }\n",
       "</style>\n",
       "<table border=\"1\" class=\"dataframe\">\n",
       "  <thead>\n",
       "    <tr style=\"text-align: right;\">\n",
       "      <th></th>\n",
       "      <th>about</th>\n",
       "      <th>valid</th>\n",
       "    </tr>\n",
       "  </thead>\n",
       "  <tbody>\n",
       "    <tr>\n",
       "      <th>0</th>\n",
       "      <td>Unfortunately, without current context, I cann...</td>\n",
       "      <td>no</td>\n",
       "    </tr>\n",
       "    <tr>\n",
       "      <th>1</th>\n",
       "      <td>A brief overview of the company's operations, ...</td>\n",
       "      <td>no</td>\n",
       "    </tr>\n",
       "    <tr>\n",
       "      <th>2</th>\n",
       "      <td>The company specializes in providing staffing ...</td>\n",
       "      <td>partial</td>\n",
       "    </tr>\n",
       "    <tr>\n",
       "      <th>3</th>\n",
       "      <td>A brief overview of Lee Company's operations, ...</td>\n",
       "      <td>no</td>\n",
       "    </tr>\n",
       "    <tr>\n",
       "      <th>4</th>\n",
       "      <td>Michael Foods Inc. is a food processor and dis...</td>\n",
       "      <td>yes</td>\n",
       "    </tr>\n",
       "  </tbody>\n",
       "</table>\n",
       "</div>"
      ],
      "text/plain": [
       "                                               about    valid\n",
       "0  Unfortunately, without current context, I cann...       no\n",
       "1  A brief overview of the company's operations, ...       no\n",
       "2  The company specializes in providing staffing ...  partial\n",
       "3  A brief overview of Lee Company's operations, ...       no\n",
       "4  Michael Foods Inc. is a food processor and dis...      yes"
      ]
     },
     "execution_count": 14,
     "metadata": {},
     "output_type": "execute_result"
    }
   ],
   "source": [
    "df1.head()"
   ]
  },
  {
   "cell_type": "code",
   "execution_count": 18,
   "id": "b936a5e4-4591-484f-8252-a2263b70cb50",
   "metadata": {},
   "outputs": [
    {
     "name": "stderr",
     "output_type": "stream",
     "text": [
      "C:\\Users\\CPS\\AppData\\Local\\Temp\\ipykernel_7804\\2083685903.py:1: SettingWithCopyWarning: \n",
      "A value is trying to be set on a copy of a slice from a DataFrame.\n",
      "Try using .loc[row_indexer,col_indexer] = value instead\n",
      "\n",
      "See the caveats in the documentation: https://pandas.pydata.org/pandas-docs/stable/user_guide/indexing.html#returning-a-view-versus-a-copy\n",
      "  df1['valid'] = df1['valid'].fillna('') #filling missing values if any\n",
      "C:\\Users\\CPS\\AppData\\Local\\Temp\\ipykernel_7804\\2083685903.py:2: SettingWithCopyWarning: \n",
      "A value is trying to be set on a copy of a slice from a DataFrame.\n",
      "Try using .loc[row_indexer,col_indexer] = value instead\n",
      "\n",
      "See the caveats in the documentation: https://pandas.pydata.org/pandas-docs/stable/user_guide/indexing.html#returning-a-view-versus-a-copy\n",
      "  df1['about'] = df1['about'].fillna('')\n"
     ]
    }
   ],
   "source": [
    "df1['valid'] = df1['valid'].fillna('') #filling missing values if any\n",
    "df1['about'] = df1['about'].fillna('')"
   ]
  },
  {
   "cell_type": "code",
   "execution_count": 20,
   "id": "0e884667-8afd-4957-9058-40d50adbf9ad",
   "metadata": {},
   "outputs": [
    {
     "data": {
      "text/plain": [
       "about    0\n",
       "valid    0\n",
       "dtype: int64"
      ]
     },
     "execution_count": 20,
     "metadata": {},
     "output_type": "execute_result"
    }
   ],
   "source": [
    "df1.isnull().sum()\n",
    "#---df1.isnull().sum().plot(kind = \"bar\")"
   ]
  },
  {
   "cell_type": "code",
   "execution_count": 22,
   "id": "0b644138-1139-4735-bdc9-f39e38d50b66",
   "metadata": {},
   "outputs": [
    {
     "ename": "NameError",
     "evalue": "name 'train_test_split' is not defined",
     "output_type": "error",
     "traceback": [
      "\u001b[1;31m---------------------------------------------------------------------------\u001b[0m",
      "\u001b[1;31mNameError\u001b[0m                                 Traceback (most recent call last)",
      "Cell \u001b[1;32mIn[22], line 2\u001b[0m\n\u001b[0;32m      1\u001b[0m \u001b[38;5;66;03m# Split the dataset into training and test sets\u001b[39;00m\n\u001b[1;32m----> 2\u001b[0m train_texts, val_texts, train_labels, val_labels \u001b[38;5;241m=\u001b[39m train_test_split(df1[\u001b[38;5;124m'\u001b[39m\u001b[38;5;124mabout\u001b[39m\u001b[38;5;124m'\u001b[39m], df1[\u001b[38;5;124m'\u001b[39m\u001b[38;5;124mvalid\u001b[39m\u001b[38;5;124m'\u001b[39m], test_size\u001b[38;5;241m=\u001b[39m\u001b[38;5;241m0.2\u001b[39m, random_state\u001b[38;5;241m=\u001b[39m\u001b[38;5;241m42\u001b[39m)\n\u001b[0;32m      4\u001b[0m \u001b[38;5;66;03m# Encode the labels\u001b[39;00m\n\u001b[0;32m      5\u001b[0m label_encoder \u001b[38;5;241m=\u001b[39m LabelEncoder()\n",
      "\u001b[1;31mNameError\u001b[0m: name 'train_test_split' is not defined"
     ]
    }
   ],
   "source": [
    "# Split the dataset into training and test sets\n",
    "train_texts, val_texts, train_labels, val_labels = train_test_split(df1['about'], df1['valid'], test_size=0.2, random_state=42)\n",
    "\n",
    "# Encode the labels\n",
    "label_encoder = LabelEncoder()\n",
    "train_labels = label_encoder.fit_transform(train_labels)\n",
    "val_labels = label_encoder.transform(val_labels)\n",
    "\n",
    "# Initialize the TfidfVectorizer\n",
    "vectorizer = TfidfVectorizer(max_features=512)\n",
    "\n",
    "# Fit and transform the training texts\n",
    "train_encodings = vectorizer.fit_transform(train_texts)\n",
    "\n",
    "# Transform the validation texts\n",
    "val_encodings = vectorizer.transform(val_texts)\n"
   ]
  },
  {
   "cell_type": "code",
   "execution_count": 21,
   "id": "6d0dc236-3fbc-499a-9e0a-30b7e2464353",
   "metadata": {},
   "outputs": [
    {
     "ename": "NameError",
     "evalue": "name 'train_texts' is not defined",
     "output_type": "error",
     "traceback": [
      "\u001b[1;31m---------------------------------------------------------------------------\u001b[0m",
      "\u001b[1;31mNameError\u001b[0m                                 Traceback (most recent call last)",
      "Cell \u001b[1;32mIn[21], line 1\u001b[0m\n\u001b[1;32m----> 1\u001b[0m train_texts\u001b[38;5;241m.\u001b[39mcount()\n",
      "\u001b[1;31mNameError\u001b[0m: name 'train_texts' is not defined"
     ]
    }
   ],
   "source": [
    "train_texts.count()"
   ]
  },
  {
   "cell_type": "code",
   "execution_count": 34,
   "id": "792380a0-c38c-4d87-9b66-138075bf1e93",
   "metadata": {},
   "outputs": [
    {
     "name": "stdout",
     "output_type": "stream",
     "text": [
      "Accuracy: 0.6000\n"
     ]
    }
   ],
   "source": [
    "from sklearn.metrics import accuracy_score\n",
    "#Initialize the classifier\n",
    "classifier = LogisticRegression(max_iter=1000)\n",
    "\n",
    "# Train the classifier\n",
    "classifier.fit(train_encodings, train_labels)\n",
    "\n",
    "# Predict on the validation set\n",
    "val_predictions = classifier.predict(val_encodings)\n",
    "\n",
    "# Calculate accuracy\n",
    "accuracy = accuracy_score(val_labels, val_predictions)\n",
    "print(f'Accuracy: {accuracy:.4f}')"
   ]
  },
  {
   "cell_type": "code",
   "execution_count": 37,
   "id": "07f89271-3a2d-49cb-af41-6d8679e65115",
   "metadata": {},
   "outputs": [
    {
     "name": "stdout",
     "output_type": "stream",
     "text": [
      "Accuracy: 0.6000\n"
     ]
    }
   ],
   "source": [
    "from sklearn.svm import SVC\n",
    "# Initialize the SVM classifier\n",
    "svm_classifier = SVC(kernel='linear', C=1.0, probability=True, random_state=42)\n",
    "\n",
    "# Train the SVM classifier\n",
    "svm_classifier.fit(train_encodings, train_labels)\n",
    "\n",
    "# Predict on the validation set\n",
    "val_predictions = svm_classifier.predict(val_encodings)\n",
    "\n",
    "# Calculate accuracy\n",
    "accuracy = accuracy_score(val_labels, val_predictions)\n",
    "print(f'Accuracy: {accuracy:.4f}')\n"
   ]
  },
  {
   "cell_type": "code",
   "execution_count": 40,
   "id": "3d8625ae-0fed-481d-b132-4d44f4928891",
   "metadata": {},
   "outputs": [
    {
     "name": "stdout",
     "output_type": "stream",
     "text": [
      "         id                      org_name  \\\n",
      "0     21909             Williamson Health   \n",
      "1     21261                           SSP   \n",
      "2     23379        Epic Oncology Staffing   \n",
      "3     16449                   Lee Company   \n",
      "4     10906            Michael Foods Inc.   \n",
      "...     ...                           ...   \n",
      "3345  24112        Residence Inn San Jose   \n",
      "3346  17925      Tiger Mountain Dentistry   \n",
      "3347  23954  Bell Audi - Sales Department   \n",
      "3348    246            NYU Langone Health   \n",
      "3349  20989    Mauser Packaging Solutions   \n",
      "\n",
      "                                                  about  \\\n",
      "0     Unfortunately, without current context, I cann...   \n",
      "1     A brief overview of the company's operations, ...   \n",
      "2     The company specializes in providing staffing ...   \n",
      "3     A brief overview of Lee Company's operations, ...   \n",
      "4     Michael Foods Inc. is a food processor and dis...   \n",
      "...                                                 ...   \n",
      "3345  Residence Inn San Canada is an extended stay h...   \n",
      "3346  Tiger Mountain Dentistry is a dental practice ...   \n",
      "3347  Bell Audi's Sales Department specializes in th...   \n",
      "3348  NYU Langone Health is a premier academic medic...   \n",
      "3349  Mauser Packaging Solutions offers a comprehens...   \n",
      "\n",
      "                           domain_value                    founder  \\\n",
      "0                                   NaN                        NaN   \n",
      "1     https://www.sspcompanywebsite.com           [Founder's Name]   \n",
      "2                         Not Available              Not Available   \n",
      "3            https://www.leecompany.com                   John Doe   \n",
      "4           http://www.michaelfoods.com                        NaN   \n",
      "...                                 ...                        ...   \n",
      "3345                                NaN                Jack DeBoer   \n",
      "3346          Information Not Available  Information Not Available   \n",
      "3347                                NaN                        NaN   \n",
      "3348            https://nyulangone.org/             Not applicable   \n",
      "3349    https://www.mauserpackaging.com                    Unknown   \n",
      "\n",
      "                      employees                headquaters  \\\n",
      "0                           NaN                        NaN   \n",
      "1                        Number                City, State   \n",
      "2                 Not Available              Not Available   \n",
      "3                        Number                City, State   \n",
      "4                           NaN             Minnetonka, MN   \n",
      "...                         ...                        ...   \n",
      "3345         Varies by location       San Jose, California   \n",
      "3346  Information Not Available  Information Not Available   \n",
      "3347                        NaN                 Edison, NJ   \n",
      "3348                    Unknown               New York, NY   \n",
      "3349                    Unknown              Oak Brook, IL   \n",
      "\n",
      "                        founded    valid  \\\n",
      "0                           NaN       no   \n",
      "1                          Year       no   \n",
      "2                 Not Available  partial   \n",
      "3                          Year       no   \n",
      "4                          1908      yes   \n",
      "...                         ...      ...   \n",
      "3345                       1975      yes   \n",
      "3346  Information Not Available      Yes   \n",
      "3347                        NaN      Yes   \n",
      "3348                       1841      Yes   \n",
      "3349                       2018      yes   \n",
      "\n",
      "                                             Unnamed: 9  \n",
      "0     Abhishek=1 to 500\\nBrijendra=501 to 1000\\nShiv...  \n",
      "1                                                   NaN  \n",
      "2                                                   NaN  \n",
      "3                                                   NaN  \n",
      "4                                                   NaN  \n",
      "...                                                 ...  \n",
      "3345                                                NaN  \n",
      "3346                                                NaN  \n",
      "3347                                                NaN  \n",
      "3348                                                NaN  \n",
      "3349                                                NaN  \n",
      "\n",
      "[3350 rows x 10 columns]\n"
     ]
    }
   ],
   "source": [
    "# Handle NaN values by filling with an empty string (or any suitable preprocessing)\n",
    "df['about'] = df['about'].fillna('')\n",
    "\n",
    "# Separate data with missing and existing 'valid' labels\n",
    "missing_data = df[df['valid'].isnull()]\n",
    "existing_data = df.dropna(subset=['valid'])\n",
    "\n",
    "# Initialize the TfidfVectorizer\n",
    "vectorizer = TfidfVectorizer(max_features=512)\n",
    "\n",
    "# Fit and transform the existing 'about' texts\n",
    "existing_encodings = vectorizer.fit_transform(existing_data['about'])\n",
    "\n",
    "# Transform the missing 'about' texts\n",
    "missing_encodings = vectorizer.transform(missing_data['about'])\n",
    "\n",
    "# Initialize the SVM classifier (you can use the same model trained earlier)\n",
    "svm_classifier = SVC(kernel='linear', C=1.0, probability=True, random_state=42)\n",
    "\n",
    "# Train the SVM classifier on existing data\n",
    "svm_classifier.fit(existing_encodings, existing_data['valid'])\n",
    "\n",
    "# Predict on the missing data (ensure no NaN values are passed)\n",
    "missing_predictions = svm_classifier.predict(missing_encodings)\n",
    "\n",
    "# Update the DataFrame with predicted 'valid' values\n",
    "df.loc[df['valid'].isnull(), 'valid'] = missing_predictions\n",
    "\n",
    "# Print the updated DataFrame with predicted 'valid' values filled\n",
    "df.head()"
   ]
  },
  {
   "cell_type": "code",
   "execution_count": 43,
   "id": "55b69462-12e3-4a7c-ad4f-3bef0aaa9bc8",
   "metadata": {},
   "outputs": [],
   "source": [
    "df.to_csv(\"C://Users/CPS/Documents/data.csv\")"
   ]
  },
  {
   "cell_type": "code",
   "execution_count": 25,
   "id": "e1f18db2-13d1-4613-9211-56cf59127bb4",
   "metadata": {},
   "outputs": [
    {
     "name": "stdout",
     "output_type": "stream",
     "text": [
      "[1, 4, 3, 8, 5]\n"
     ]
    }
   ],
   "source": [
    "import pandas as pd\n",
    "\n",
    "l1 = [1,2,3,4,5]\n",
    "def dou(n):\n",
    "    if n % 2 == 0:\n",
    "        return n + n\n",
    "    else:\n",
    "        return n\n",
    "result = list(map(dou, l1))\n",
    "print(result)"
   ]
  },
  {
   "cell_type": "code",
   "execution_count": null,
   "id": "c8389ec5-74e8-40bc-bb71-d49575005dad",
   "metadata": {},
   "outputs": [],
   "source": []
  }
 ],
 "metadata": {
  "kernelspec": {
   "display_name": "Python 3 (ipykernel)",
   "language": "python",
   "name": "python3"
  },
  "language_info": {
   "codemirror_mode": {
    "name": "ipython",
    "version": 3
   },
   "file_extension": ".py",
   "mimetype": "text/x-python",
   "name": "python",
   "nbconvert_exporter": "python",
   "pygments_lexer": "ipython3",
   "version": "3.11.7"
  }
 },
 "nbformat": 4,
 "nbformat_minor": 5
}
