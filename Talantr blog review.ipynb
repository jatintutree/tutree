{
 "cells": [
  {
   "cell_type": "code",
   "execution_count": 1,
   "id": "5f87ab9e",
   "metadata": {},
   "outputs": [],
   "source": [
    "import requests as rt\n",
    "import bs4\n",
    "import pandas as pd"
   ]
  },
  {
   "cell_type": "code",
   "execution_count": 12,
   "id": "79486ea6",
   "metadata": {},
   "outputs": [
    {
     "data": {
      "text/plain": [
       "200"
      ]
     },
     "execution_count": 12,
     "metadata": {},
     "output_type": "execute_result"
    }
   ],
   "source": [
    "data = rt.request(\"get\", \"https://talantr.com/blog\")\n",
    "data.status_code"
   ]
  },
  {
   "cell_type": "code",
   "execution_count": 13,
   "id": "0e1f0aab",
   "metadata": {},
   "outputs": [
    {
     "data": {
      "text/plain": [
       "'<!DOCTYPE html><html lang=\"en\"><head><meta charSet=\"utf-8\"/><meta name=\"viewport\" content=\"width=device-width\"/><meta name=\"google-site-verification\" content=\"QGvonsStgrSQ6ZEfzviV12bRl5b_QXYa8X2ENb2-ATw\"/><link rel=\"icon\" href=\"/_next/static/media/favicon.ad154ff0.ico\"/><link rel=\"dns-prefetch\" href=\"https://www.google.com\"/><link rel=\"dns-prefetch\" href=\"https://www.google-analytics.com\"/><link rel=\"dns-prefetch\" href=\"https://www.googletagservices.com\"/><link rel=\"dns-prefetch\" href=\"https://www.googletagmanager.com\"/><link rel=\"dns-prefetch\" href=\"https://dgifxh1erilam.cloudfront.net\"/><link rel=\"dns-prefetch\" href=\"https://cdn.jsdelivr.net\"/><link rel=\"dns-prefetch\" href=\"https://domdomjobs.s3-us-west-2.amazonaws.com\"/><link rel=\"preconnect\" href=\"https://www.google.com\"/><link rel=\"preconnect\" href=\"https://www.google-analytics.com\"/><link rel=\"preconnect\" href=\"https://www.googletagservices.com\"/><link rel=\"preconnect\" href=\"https://www.googletagmanager.com\"/><link rel=\"preconnect\" href=\"https://dgifxh1erilam.cloudfront.net\"/><link rel=\"preconnect\" href=\"https://cdn.jsdelivr.net\"/><link rel=\"preconnect\" href=\"https://domdomjobs.s3-us-west-2.amazonaws.com\"/><style>\\n            .navbar-toggler:focus,\\n            .navbar-toggler:active,\\n            .navbar-toggler-icon:focus {\\n                outline: none!important;\\n                box-shadow: none!important;\\n            }\\n            .nav-link{\\n              text-decoration : none !important ;\\n            }\\n        </style><link rel=\"preload\" href=\"/_next/static/media/logo_black.26849004.svg\" as=\"image\" fetchPriority=\"high\"/><title></title><meta name=\"description\" content=\"\"/><meta property=\"og:url\" content=\"\"/><meta property=\"og:type\" content=\"blog\"/><meta property=\"og:title\" content=\"\"/><meta property=\"og:description\" content=\"\"/><meta property=\"og:site_name\" content=\"https://talantr.com\"/><meta property=\"og:image\" content=\"/_next/static/media/logo_black.26849004.svg\"/><meta property=\"twitter:url\" content=\"\"/><meta property=\"twitter:type\" content=\"blog\"/><meta property=\"twitter:title\" content=\"\"/><meta property=\"twitter:description\" content=\"\"/><meta property=\"twitter:site_name\" content=\"https://talantr.com\"/><meta property=\"twitter:image\" content=\"/_next/static/media/logo_black.26849004.svg\"/><link rel=\"canonical\" href=\"https://talantr.com/blog\"/><link rel=\"preload\" href=\"/_next/static/media/logo_white.9a2860f5.svg\" as=\"image\" fetchPriority=\"high\"/><meta name=\"next-head-count\" content=\"36\"/><link rel=\"preload\" href=\"/_next/static/media/4c472ffaefe8ebfa-s.p.woff2\" as=\"font\" type=\"font/woff2\" crossorigin=\"anonymous\" data-next-font=\"size-adjust\"/><link rel=\"preload\" href=\"/_next/static/css/65e5b021b7172731.css\" as=\"style\"/><link rel=\"stylesheet\" href=\"/_next/static/css/65e5b021b7172731.css\" data-n-g=\"\"/><link rel=\"preload\" href=\"/_next/static/css/7b7522a6cb86afa3.css\" as=\"style\"/><link rel=\"stylesheet\" href=\"/_next/static/css/7b7522a6cb86afa3.css\" data-n-p=\"\"/><noscript data-n-css=\"\"></noscript><script defer=\"\" nomodule=\"\" src=\"/_next/static/chunks/polyfills-78c92fac7aa8fdd8.js\"></script><script src=\"/_next/static/chunks/webpack-59c5c889f52620d6.js\" defer=\"\"></script><script src=\"/_next/static/chunks/framework-ecc4130bc7a58a64.js\" defer=\"\"></script><script src=\"/_next/static/chunks/main-48a2be0192cdda09.js\" defer=\"\"></script><script src=\"/_next/static/chunks/pages/_app-19fbe7090141411e.js\" defer=\"\"></script><script src=\"/_next/static/chunks/757-bbe92baa7726d492.js\" defer=\"\"></script><script src=\"/_next/static/chunks/196-c06f2c94e07f174c.js\" defer=\"\"></script><script src=\"/_next/static/chunks/pages/blog-d6b6f9faae0d4f5f.js\" defer=\"\"></script><script src=\"/_next/static/Q4Ge1DNO6X6Bjv6XyiMiZ/_buildManifest.js\" defer=\"\"></script><script src=\"/_next/static/Q4Ge1DNO6X6Bjv6XyiMiZ/_ssgManifest.js\" defer=\"\"></script></head><body><div id=\"__next\"><div class=\"__className_1ba402\"><noscript><iframe src=\"https://www.googletagmanager.com/ns.html?id=GTM-WKKR9KZT\" height=\"0\" width=\"0\" style=\"display:none;visibility:hidden\"></iframe></noscript><nav class=\"navbar navbar-expand-lg bg-white top-0 w-100 fixed-navbar home_navbar__5tLmN \"><div class=\"container\"><a class=\"navbar-brand\" href=\"/\"><img title=\"talantr\" alt=\"talantr\" fetchPriority=\"high\" loading=\"eager\" width=\"150\" height=\"60\" decoding=\"async\" data-nimg=\"1\" style=\"color:transparent\" src=\"/_next/static/media/logo_black.26849004.svg\"/></a><button class=\"navbar-toggler border-0\" type=\"button\" data-bs-toggle=\"collapse\" data-bs-target=\"#navbarSupportedContent\" aria-controls=\"navbarSupportedContent\" aria-expanded=\"false\" aria-label=\"Toggle navigation\"><img title=\"hamburger\" alt=\"hamburger_menu\" loading=\"lazy\" width=\"25\" height=\"18\" decoding=\"async\" data-nimg=\"1\" style=\"color:transparent\" src=\"/_next/static/media/hamburger_menu.33991665.svg\"/></button><div class=\" undefined collapse navbar-collapse\" id=\"navbarSupportedContent\"><ul class=\"navbar-nav mb-2 mb-lg-0 ms-auto pt-4 pt-lg-0\"><li class=\"nav-item pe-5\"><a class=\"nav-link active text-dark\" title=\"Home\" href=\"/\">Home</a></li><li class=\"nav-item pe-5\"><a class=\"nav-link text-dark\" title=\"Find Jobs\" href=\"/search\">Find Jobs</a></li><li class=\"nav-item pe-5\"><a class=\"nav-link text-dark\" title=\"Jobs in Companies\" href=\"/companies\">Company</a></li></ul></div></div></nav><section class=\"blog_withoutImageBgContainers__hMyke d-flex flex-column align-items-center\"><div style=\"top:100px\" class=\"container position-absolute\"><div class=\" mt-3  fs-5  mb-5 fw-medium d-flex  text-truncate home_breadcrumbText__wXZ93 \"><a class=\"m-0 me-1 text-dark text-decoration-none home_hoverEffect__UMOoI\" title=\"Home\" href=\"/\">Home</a><span class=\"m-0 me-2\"> / <!-- -->Blog</span></div></div><div class=\"container pt-5 pt-md-0\"><div class=\"d-flex flex-wrap mt-0   justify-content-center align-items-center undefined\"><div class=\"heading text-center py-5\"><h1 class=\"text-dark text-capitalize\">Talantr Blog</h1></div></div><div class=\"row justify-content-center\"><div class=\"col-12 col-md-6\"><form class=\"input-group undefined undefined  position-relative\">  <img alt=\"search\" loading=\"lazy\" width=\"20\" height=\"20\" decoding=\"async\" data-nimg=\"1\" class=\"position-absolute mt-3 ms-3\" style=\"color:transparent\" src=\"/_next/static/media/search_icon.62958461.svg\"/><input type=\"text\" class=\" w-100 py-3 ps-5 shadow-none border-0 outline-none rounded-1 blog_placeholder_text__kUjA5\" placeholder=\"Search here...\" aria-label=\"Search\" aria-describedby=\"button-addon2\" value=\"\"/><div class=\"mx-auto\"><button type=\"button\" class=\"btn blog_searchBtn__XEprf rounded-1 end-0 top-0 me-2\">Search</button></div></form></div></div></div></section><section class=\"py-5\"><div class=\"container\"><div class=\"row\"><div class=\"col-12 col-md-4 col-lg-4  text-center g-3\"><div class=\" rounded-1 pb-3 ps-2 pe-3 bg-white\"><a target=\"_top\" href=\"https://talantr.com/blog/elevate-your-career-with-sodexo\"><img alt=\"Elevate Your Career With Exciting Job Opportunities\" loading=\"lazy\" width=\"400\" height=\"280\" decoding=\"async\" data-nimg=\"1\" class=\"rounded-1 mx-1 my-3 img-fluid w-100 blog_imgCard__uiWoQ\" style=\"color:transparent\" srcSet=\"/_next/image?url=https%3A%2F%2Fjobssherpa.s3.us-west-2.amazonaws.com%2Fthumbnail%2FElevateYourCareerWithExcitingJobOpportunities.jpg&amp;w=640&amp;q=75 1x, /_next/image?url=https%3A%2F%2Fjobssherpa.s3.us-west-2.amazonaws.com%2Fthumbnail%2FElevateYourCareerWithExcitingJobOpportunities.jpg&amp;w=828&amp;q=75 2x\" src=\"/_next/image?url=https%3A%2F%2Fjobssherpa.s3.us-west-2.amazonaws.com%2Fthumbnail%2FElevateYourCareerWithExcitingJobOpportunities.jpg&amp;w=828&amp;q=75\"/></a><div class=\"d-flex justify-content-between px-3\"><a target=\"_top\" class=\"blog_categoryText__bYTLz px-4 py-2 mb-3 text-white\" href=\"/blog/category/jobs\">Jobs</a><p class=\"m-0 p-0\">2024-07-05</p></div><a target=\"_top\" href=\"https://talantr.com/blog/elevate-your-career-with-sodexo\"><h2 class=\"h4 text-start px-3 text-primary text-truncate\">Elevate Your Career With Exciting Job Opportunities At Sodexo!</h2></a><p class=\"blog_blogSummaryAlignment__hH3FQ text-start px-3\">Looking to find new and exciting vacancies? Check out Sodexo and fast-track your progress toward success and fulfillment.</p><div class=\"text-start px-3\"><a target=\"_top\" class=\"text-start nav-link text-info\" style=\"width:fit-content\" href=\"https://talantr.com/blog/elevate-your-career-with-sodexo\">Read More <img alt=\"arrow\" loading=\"lazy\" width=\"15\" height=\"15\" decoding=\"async\" data-nimg=\"1\" style=\"color:transparent\" src=\"/_next/static/media/arrow.ac6c0751.svg\"/> </a></div></div></div><div class=\"col-12 col-md-4 col-lg-4  text-center g-3\"><div class=\" rounded-1 pb-3 ps-2 pe-3 bg-white\"><a target=\"_top\" href=\"https://talantr.com/blog/job-opportunities-in-veyo\"><img alt=\"Vitalize Your Career With Job Opportunities At Veyo\" loading=\"lazy\" width=\"400\" height=\"280\" decoding=\"async\" data-nimg=\"1\" class=\"rounded-1 mx-1 my-3 img-fluid w-100 blog_imgCard__uiWoQ\" style=\"color:transparent\" srcSet=\"/_next/image?url=https%3A%2F%2Fjobssherpa.s3.us-west-2.amazonaws.com%2Fthumbnail%2FVitalizeYourCareerWithJobOpportunities.jpg&amp;w=640&amp;q=75 1x, /_next/image?url=https%3A%2F%2Fjobssherpa.s3.us-west-2.amazonaws.com%2Fthumbnail%2FVitalizeYourCareerWithJobOpportunities.jpg&amp;w=828&amp;q=75 2x\" src=\"/_next/image?url=https%3A%2F%2Fjobssherpa.s3.us-west-2.amazonaws.com%2Fthumbnail%2FVitalizeYourCareerWithJobOpportunities.jpg&amp;w=828&amp;q=75\"/></a><div class=\"d-flex justify-content-between px-3\"><a target=\"_top\" class=\"blog_categoryText__bYTLz px-4 py-2 mb-3 text-white\" href=\"/blog/category/jobs\">Jobs</a><p class=\"m-0 p-0\">2024-07-05</p></div><a target=\"_top\" href=\"https://talantr.com/blog/job-opportunities-in-veyo\"><h2 class=\"h4 text-start px-3 text-primary text-truncate\">Vitalize Your Career With Job Opportunities At Veyo</h2></a><p class=\"blog_blogSummaryAlignment__hH3FQ text-start px-3\">Veyo is a popular non-emergency medical transportation company. Wondering what it’s like to work for them? Get your answers here.</p><div class=\"text-start px-3\"><a target=\"_top\" class=\"text-start nav-link text-info\" style=\"width:fit-content\" href=\"https://talantr.com/blog/job-opportunities-in-veyo\">Read More <img alt=\"arrow\" loading=\"lazy\" width=\"15\" height=\"15\" decoding=\"async\" data-nimg=\"1\" style=\"color:transparent\" src=\"/_next/static/media/arrow.ac6c0751.svg\"/> </a></div></div></div><div class=\"col-12 col-md-4 col-lg-4  text-center g-3\"><div class=\" rounded-1 pb-3 ps-2 pe-3 bg-white\"><a target=\"_top\" href=\"https://talantr.com/blog/accelerate-your-career-with-carmax\"><img alt=\"Accelerate Your Career with CarMax Find\" loading=\"lazy\" width=\"400\" height=\"280\" decoding=\"async\" data-nimg=\"1\" class=\"rounded-1 mx-1 my-3 img-fluid w-100 blog_imgCard__uiWoQ\" style=\"color:transparent\" srcSet=\"/_next/image?url=https%3A%2F%2Fjobssherpa.s3.us-west-2.amazonaws.com%2Fthumbnail%2FAccelerateYourCareerwithCarMaxFind.jpg&amp;w=640&amp;q=75 1x, /_next/image?url=https%3A%2F%2Fjobssherpa.s3.us-west-2.amazonaws.com%2Fthumbnail%2FAccelerateYourCareerwithCarMaxFind.jpg&amp;w=828&amp;q=75 2x\" src=\"/_next/image?url=https%3A%2F%2Fjobssherpa.s3.us-west-2.amazonaws.com%2Fthumbnail%2FAccelerateYourCareerwithCarMaxFind.jpg&amp;w=828&amp;q=75\"/></a><div class=\"d-flex justify-content-between px-3\"><a target=\"_top\" class=\"blog_categoryText__bYTLz px-4 py-2 mb-3 text-white\" href=\"/blog/category/jobs\">Jobs</a><p class=\"m-0 p-0\">2024-07-04</p></div><a target=\"_top\" href=\"https://talantr.com/blog/accelerate-your-career-with-carmax\"><h2 class=\"h4 text-start px-3 text-primary text-truncate\">Accelerate Your Career with CarMax: Find Exciting Job Opportunities</h2></a><p class=\"blog_blogSummaryAlignment__hH3FQ text-start px-3\">Learn more about used car retail powerhouse CarMax. Discover the advantages of  working with them and elevate your career.</p><div class=\"text-start px-3\"><a target=\"_top\" class=\"text-start nav-link text-info\" style=\"width:fit-content\" href=\"https://talantr.com/blog/accelerate-your-career-with-carmax\">Read More <img alt=\"arrow\" loading=\"lazy\" width=\"15\" height=\"15\" decoding=\"async\" data-nimg=\"1\" style=\"color:transparent\" src=\"/_next/static/media/arrow.ac6c0751.svg\"/> </a></div></div></div><div class=\"col-12 col-md-4 col-lg-4  text-center g-3\"><div class=\" rounded-1 pb-3 ps-2 pe-3 bg-white\"><a target=\"_top\" href=\"https://talantr.com/blog/job-search-strategies\"><img alt=\"Top 6 Job Search Strategies\" loading=\"lazy\" width=\"400\" height=\"280\" decoding=\"async\" data-nimg=\"1\" class=\"rounded-1 mx-1 my-3 img-fluid w-100 blog_imgCard__uiWoQ\" style=\"color:transparent\" srcSet=\"/_next/image?url=https%3A%2F%2Fjobssherpa.s3.us-west-2.amazonaws.com%2Fthumbnail%2FTop6JobSearchStrategies.jpg&amp;w=640&amp;q=75 1x, /_next/image?url=https%3A%2F%2Fjobssherpa.s3.us-west-2.amazonaws.com%2Fthumbnail%2FTop6JobSearchStrategies.jpg&amp;w=828&amp;q=75 2x\" src=\"/_next/image?url=https%3A%2F%2Fjobssherpa.s3.us-west-2.amazonaws.com%2Fthumbnail%2FTop6JobSearchStrategies.jpg&amp;w=828&amp;q=75\"/></a><div class=\"d-flex justify-content-between px-3\"><a target=\"_top\" class=\"blog_categoryText__bYTLz px-4 py-2 mb-3 text-white\" href=\"/blog/category/jobs\">Jobs</a><p class=\"m-0 p-0\">2024-07-04</p></div><a target=\"_top\" href=\"https://talantr.com/blog/job-search-strategies\"><h2 class=\"h4 text-start px-3 text-primary text-truncate\">Top 6 Job Search Strategies To Stand Out (With 3 Bonus Tips)</h2></a><p class=\"blog_blogSummaryAlignment__hH3FQ text-start px-3\">Get to know 6 amazing job search strategies to improve your odds of getting the job you deserve and get your career going.</p><div class=\"text-start px-3\"><a target=\"_top\" class=\"text-start nav-link text-info\" style=\"width:fit-content\" href=\"https://talantr.com/blog/job-search-strategies\">Read More <img alt=\"arrow\" loading=\"lazy\" width=\"15\" height=\"15\" decoding=\"async\" data-nimg=\"1\" style=\"color:transparent\" src=\"/_next/static/media/arrow.ac6c0751.svg\"/> </a></div></div></div><div class=\"col-12\"><div class=\"d-flex align-items-center justify-content-center gap-1 pt-5 pb-4\"><img alt=\"previous\" loading=\"lazy\" width=\"52\" height=\"52\" decoding=\"async\" data-nimg=\"1\" style=\"color:transparent\" src=\"/_next/static/media/btn_dis_previous.02386891.svg\"/><img alt=\"next\" loading=\"lazy\" width=\"55\" height=\"55\" decoding=\"async\" data-nimg=\"1\" style=\"color:transparent\" src=\"/_next/static/media/btn_dis_next.07819cef.svg\"/></div></div></div></div></section><div></div><footer style=\"background-color:#2F333C\"><div class=\"container d-flex flex-wrap pt-5 pb-2\"><div class=\"col-12 col-xl-6 col-lg-8 col-md-8 home_footer_desc__uAVYT\"><a class=\"navbar-brand\" title=\"Home\" href=\"/\"><img title=\"talantr\" alt=\"talantr\" fetchPriority=\"high\" loading=\"eager\" width=\"150\" height=\"60\" decoding=\"async\" data-nimg=\"1\" style=\"color:transparent\" src=\"/_next/static/media/logo_white.9a2860f5.svg\"/></a><p class=\"text-white pt-3\">We help you get better access to quality job openings across various industries and professions. The website does its best to create a safe and user-friendly virtual environment for job seekers to help them elevate their careers. It offers a wide range of roles targeted toward a diverse array of individuals with variable qualifications and skills. Whether you are a fresher looking for an entry-level job or an experienced candidate aspiring for a big position. We provide options for all!</p></div><div class=\"col-12 home_footer_menu__nrYev col-xl-6 col-lg-4 col-md-4 mt-md-4 mt-0 d-flex justify-content-start justify-content-md-end\"><ul class=\"navbar-nav mb-2 mb-lg-0 pt-4 pt-lg-0\"><li class=\"nav-item pe-5\"><a class=\"nav-link active text-white p-0\" title=\"About Us\" href=\"/about-us\">About us</a></li><li class=\"nav-item pe-5\"><a class=\"nav-link text-white pt-1 p-0\" title=\"Terms &amp; Conditions\" href=\"/terms-conditions\">Terms &amp; Conditions</a></li><li class=\"nav-item pe-5\"><a class=\"nav-link text-white pt-1 p-0\" title=\"Privacy Policy\" href=\"/privacy-policy\">Privacy Policy</a></li><li class=\"nav-item pe-5\"><a class=\"nav-link text-white pt-1 p-0\" href=\"/blog\">Blog</a></li><li class=\"nav-item pe-5\"><a class=\"nav-link text-white pt-1 p-0\" href=\"/find-job-by-city\">Jobs By Cities</a></li></ul></div><hr class=\"col-12 opacity-100 text-white m-0 mb-2\"/><div class=\"col-12 container d-flex justify-content-center home_copyRights__YOCmb\"><p class=\"text-white m-0\">© 2024 Talantr.com - All Rights Reserved</p></div></div></footer></div></div><script id=\"__NEXT_DATA__\" type=\"application/json\">{\"props\":{\"pageProps\":{\"blogList\":{\"posts\":[{\"sno\":1,\"Id\":22,\"Title\":\"Elevate Your Career With Exciting Job Opportunities At Sodexo!\",\"Status\":true,\"PublishedAt\":\"2024-07-05\",\"CategoryId\":2,\"CategoryName\":\"Jobs\",\"CategoryDescription\":\"Looking for essential job-finding tips? Begin your journey here. Access top-notch job advice and industry tips curated to help you navigate the job search successfully.\",\"UserName\":\"\",\"image\":\"https://jobssherpa.s3.us-west-2.amazonaws.com/image/ElevateYourCareerWithExcitingJobOpportunitiesAtSodexo!.jpg\",\"desc\":\"\\\\u003cp\\\\u003eStart a new chapter in your professional life. Check out these exciting vacancies available at Sodexo. Let your career take flight.\\\\u003c/p\\\\u003e\",\"summary\":\"Looking to find new and exciting vacancies? Check out Sodexo and fast-track your progress toward success and fulfillment.\",\"blog_url\":\"https://talantr.com/blog/elevate-your-career-with-sodexo\",\"category_url\":\"https://talantr.com/blog/category/jobs\",\"thumbnail\":\"https://jobssherpa.s3.us-west-2.amazonaws.com/thumbnail/ElevateYourCareerWithExcitingJobOpportunities.jpg\",\"sidebar_image\":\"https://jobssherpa.s3.us-west-2.amazonaws.com/small-thumbnail/ElevateYourCareerWithExcitingJobOpportunities.jpg\",\"alt_text_image\":\"Elevate Your Career With Exciting Job Opportunities At Sodexo!\",\"alt_text_thumbnail\":\"Elevate Your Career With Exciting Job Opportunities\",\"alt_text_sidebar_image\":\"ElevateYourCareerWithExcitingJobOpportunities.jpg\",\"AuthorID\":0,\"AuthorName\":\"\",\"ProfilePictureLink\":\"\",\"Twitter\":\"\",\"Facebook\":\"\",\"LinkedIn\":\"\",\"About\":\"\"},{\"sno\":2,\"Id\":23,\"Title\":\"Vitalize Your Career With Job Opportunities At Veyo\",\"Status\":true,\"PublishedAt\":\"2024-07-05\",\"CategoryId\":2,\"CategoryName\":\"Jobs\",\"CategoryDescription\":\"Looking for essential job-finding tips? Begin your journey here. Access top-notch job advice and industry tips curated to help you navigate the job search successfully.\",\"UserName\":\"\",\"image\":\"https://jobssherpa.s3.us-west-2.amazonaws.com/image/VitalizeYourCareerWithJobOpportunitiesAtVeyo.jpg\",\"desc\":\"\\\\u003cp\\\\u003eBrowse several vacancies at Veyo to land your dream job. Get your professional running smoothly. Don\\\\u0026rsquo;t let this opportunity go to\\\\u003c/p\\\\u003e\",\"summary\":\"Veyo is a popular non-emergency medical transportation company. Wondering what it’s like to work for them? Get your answers here.\",\"blog_url\":\"https://talantr.com/blog/job-opportunities-in-veyo\",\"category_url\":\"https://talantr.com/blog/category/jobs\",\"thumbnail\":\"https://jobssherpa.s3.us-west-2.amazonaws.com/thumbnail/VitalizeYourCareerWithJobOpportunities.jpg\",\"sidebar_image\":\"https://jobssherpa.s3.us-west-2.amazonaws.com/small-thumbnail/VitalizeYourCareerWithJobOpportunities.jpg\",\"alt_text_image\":\"Vitalize Your Career With Job Opportunities At Veyo\",\"alt_text_thumbnail\":\"Vitalize Your Career With Job Opportunities At Veyo\",\"alt_text_sidebar_image\":\"VitalizeYourCareerWithJobOpportunities.jpg\",\"AuthorID\":0,\"AuthorName\":\"\",\"ProfilePictureLink\":\"\",\"Twitter\":\"\",\"Facebook\":\"\",\"LinkedIn\":\"\",\"About\":\"\"},{\"sno\":3,\"Id\":21,\"Title\":\"Accelerate Your Career with CarMax: Find Exciting Job Opportunities\",\"Status\":true,\"PublishedAt\":\"2024-07-04\",\"CategoryId\":2,\"CategoryName\":\"Jobs\",\"CategoryDescription\":\"Looking for essential job-finding tips? Begin your journey here. Access top-notch job advice and industry tips curated to help you navigate the job search successfully.\",\"UserName\":\"\",\"image\":\"https://jobssherpa.s3.us-west-2.amazonaws.com/image/AccelerateYourCareerwithCarMaxFindExcitingJobOpportunities.jpg\",\"desc\":\"\\\\u003cp\\\\u003eChoose from a wide array of job openings available at \\\\u003cstrong\\\\u003e\\\\u003cspan\\\\u003e\\\\u003ca style=\\\\\"color: #3598db;\\\\\" href=\\\\\"https://talantr.com/companies/carmax-779\\\\\" target=\\\\\"_blank\\\\\" rel=\\\\\"noopener\\\\\"\\\\u003eCarmax\\\\u003c/a\\\\u003e\\\\u003c/span\\\\u003e\\\\u003c/strong\\\\u003e. Find your dream role and\\\\u003c/p\\\\u003e\",\"summary\":\"Learn more about used car retail powerhouse CarMax. Discover the advantages of  working with them and elevate your career.\",\"blog_url\":\"https://talantr.com/blog/accelerate-your-career-with-carmax\",\"category_url\":\"https://talantr.com/blog/category/jobs\",\"thumbnail\":\"https://jobssherpa.s3.us-west-2.amazonaws.com/thumbnail/AccelerateYourCareerwithCarMaxFind.jpg\",\"sidebar_image\":\"https://jobssherpa.s3.us-west-2.amazonaws.com/small-thumbnail/AccelerateYourCareerwithCarMaxFind.jpg\",\"alt_text_image\":\"Accelerate Your Career with CarMax Find Exciting Job Opportunities\",\"alt_text_thumbnail\":\"Accelerate Your Career with CarMax Find\",\"alt_text_sidebar_image\":\"AccelerateYourCareerwithCarMaxFind.jpg\",\"AuthorID\":0,\"AuthorName\":\"\",\"ProfilePictureLink\":\"\",\"Twitter\":\"\",\"Facebook\":\"\",\"LinkedIn\":\"\",\"About\":\"\"},{\"sno\":4,\"Id\":19,\"Title\":\"Top 6 Job Search Strategies To Stand Out (With 3 Bonus Tips)\",\"Status\":true,\"PublishedAt\":\"2024-07-04\",\"CategoryId\":2,\"CategoryName\":\"Jobs\",\"CategoryDescription\":\"Looking for essential job-finding tips? Begin your journey here. Access top-notch job advice and industry tips curated to help you navigate the job search successfully.\",\"UserName\":\"\",\"image\":\"https://jobssherpa.s3.us-west-2.amazonaws.com/image/Top6JobSearchStrategiesToStand.jpg\",\"desc\":\"\\\\u003cp\\\\u003eThe job market has grown increasingly competitive as the years have passed. This is good for many companies as they have\\\\u003c/p\\\\u003e\",\"summary\":\"Get to know 6 amazing job search strategies to improve your odds of getting the job you deserve and get your career going.\",\"blog_url\":\"https://talantr.com/blog/job-search-strategies\",\"category_url\":\"https://talantr.com/blog/category/jobs\",\"thumbnail\":\"https://jobssherpa.s3.us-west-2.amazonaws.com/thumbnail/Top6JobSearchStrategies.jpg\",\"sidebar_image\":\"https://jobssherpa.s3.us-west-2.amazonaws.com/small-thumbnail/Top6JobSearchStrategies.jpg\",\"alt_text_image\":\"Top 6 Job Search Strategies To Stand\",\"alt_text_thumbnail\":\"Top 6 Job Search Strategies\",\"alt_text_sidebar_image\":\"Top6JobSearchStrategies.jpg\",\"AuthorID\":0,\"AuthorName\":\"\",\"ProfilePictureLink\":\"\",\"Twitter\":\"\",\"Facebook\":\"\",\"LinkedIn\":\"\",\"About\":\"\"}],\"similar_top_categories\":[{\"sno\":0,\"Id\":2,\"Name\":\"Jobs\",\"CategoryURL\":\"https://talantr.com/blog/category/jobs\",\"Description\":\"\"}],\"previous\":\"\",\"next\":\"\"},\"metadata\":{\"title\":\"\",\"description\":\"\",\"openGraph\":{\"url\":\"\",\"images\":\"\",\"type\":\"blog\",\"site_name\":\"https://talantr.com\",\"title\":\"\",\"description\":\"\"},\"twitter\":{\"url\":\"\",\"images\":\"\",\"site_name\":\"https://talantr.com\",\"type\":\"blog\",\"title\":\"\",\"description\":\"\"},\"alternates\":{\"canonical\":\"https://talantr.com/blog\"}}},\"__N_SSP\":true},\"page\":\"/blog\",\"query\":{},\"buildId\":\"Q4Ge1DNO6X6Bjv6XyiMiZ\",\"isFallback\":false,\"isExperimentalCompile\":false,\"gssp\":true,\"scriptLoader\":[]}</script></body></html>'"
      ]
     },
     "execution_count": 13,
     "metadata": {},
     "output_type": "execute_result"
    }
   ],
   "source": [
    "data.text"
   ]
  },
  {
   "cell_type": "code",
   "execution_count": 10,
   "id": "89e9d8f4",
   "metadata": {},
   "outputs": [],
   "source": [
    "data = rt.request(\"get\", \"https://nursegigs.org/blog\")\n",
    "sp = bs4.BeautifulSoup(data.text, 'html.parser')\n",
    "for i in sp.findAll('a'):\n",
    "    a_tag = i.find('href')\n",
    "    if a_tag and a_tag['href']:\n",
    "        print(f\"{a_tag.get_text()},/t {a_tag['href']}\")"
   ]
  },
  {
   "cell_type": "code",
   "execution_count": 11,
   "id": "1828a3c2-ac1b-463c-b032-bee66d2f2d3c",
   "metadata": {},
   "outputs": [
    {
     "name": "stdout",
     "output_type": "stream",
     "text": [
      ",\t/\n",
      "Home,\t/\n",
      "Find Jobs,\t/search\n",
      "Blog,\t/blog\n",
      "Company,\t/companies\n",
      "About Us,\t/about-us\n",
      "Home,\t/\n",
      "Jobs,\t/blog/category/jobs\n",
      ",\t/blog/travel-nurse-jobs\n",
      "Jobs,\t/blog/category/jobs\n",
      "Detailed Guide To Working Travel Nurse Jobs,\t/blog/travel-nurse-jobs\n",
      ",\t/blog/importance-of-work-life-balance-for-nurses\n",
      "Jobs,\t/blog/category/jobs\n",
      "Importance Of Work-Life Balance For Nurses (Includes Tips),\t/blog/importance-of-work-life-balance-for-nurses\n",
      ",\t/blog/common-nursing-specialities\n",
      "Jobs,\t/blog/category/jobs\n",
      "12 Common Nursing Specialities (Salaries, Job Description & Education Included),\t/blog/common-nursing-specialities\n",
      ",\t/blog/technology-in-nursing\n",
      "Jobs,\t/blog/category/jobs\n",
      "Understanding The Role Of Technology In Nursing,\t/blog/technology-in-nursing\n",
      ",\t/blog/popular-nursing-specialties-2024\n",
      "Jobs,\t/blog/category/jobs\n",
      "5 Most Popular Nursing Specialties in 2024,\t/blog/popular-nursing-specialties-2024\n",
      ",\t/blog/lvn-program\n",
      "Jobs,\t/blog/category/jobs\n",
      "Why You Should Pursue An LVN Program (Salaries & Job Description Included),\t/blog/lvn-program\n",
      ",\t/blog/highest-paying-nursing-positions\n",
      "Jobs,\t/blog/category/jobs\n",
      "Top 10 Highest Paying Nursing Positions (And How To Land Them),\t/blog/highest-paying-nursing-positions\n",
      ",\t/blog/nurse-salaries-near-california\n",
      "Jobs,\t/blog/category/jobs\n",
      "Cities Near California Offering Good Salaries For Nurses,\t/blog/nurse-salaries-near-california\n",
      ",\t/blog/types-of-nurses\n",
      "Jobs,\t/blog/category/jobs\n",
      "Types Of Nurses: Duties & Salaries,\t/blog/types-of-nurses\n",
      "Terms & Conditions,\t/terms-conditions\n",
      "Privacy Policy,\t/privacy-policy\n"
     ]
    }
   ],
   "source": [
    "data = rt.request(\"get\", \"https://nursegigs.org/blog\")\n",
    "sp = bs4.BeautifulSoup(data.text, 'html.parser')\n",
    "for link in sp.find_all('a'):\n",
    "    href = link.get('href')\n",
    "    if href:\n",
    "        print(f\"{link.get_text()},\\t{href}\")\n"
   ]
  },
  {
   "cell_type": "code",
   "execution_count": 11,
   "id": "b6d6d4df",
   "metadata": {},
   "outputs": [
    {
     "data": {
      "text/html": [
       "<div>\n",
       "<style scoped>\n",
       "    .dataframe tbody tr th:only-of-type {\n",
       "        vertical-align: middle;\n",
       "    }\n",
       "\n",
       "    .dataframe tbody tr th {\n",
       "        vertical-align: top;\n",
       "    }\n",
       "\n",
       "    .dataframe thead th {\n",
       "        text-align: right;\n",
       "    }\n",
       "</style>\n",
       "<table border=\"1\" class=\"dataframe\">\n",
       "  <thead>\n",
       "    <tr style=\"text-align: right;\">\n",
       "      <th></th>\n",
       "      <th>Blog</th>\n",
       "    </tr>\n",
       "  </thead>\n",
       "  <tbody>\n",
       "    <tr>\n",
       "      <th>0</th>\n",
       "      <td>Vitalize Your Career With Job Opportunities At...</td>\n",
       "    </tr>\n",
       "  </tbody>\n",
       "</table>\n",
       "</div>"
      ],
      "text/plain": [
       "                                                Blog\n",
       "0  Vitalize Your Career With Job Opportunities At..."
      ]
     },
     "execution_count": 11,
     "metadata": {},
     "output_type": "execute_result"
    }
   ],
   "source": [
    "# Step 1: Fetch the webpage\n",
    "url = \"https://talantr.com/blog/job-opportunities-in-veyo\"\n",
    "data = rt.get(url)\n",
    "\n",
    "# Step 2: Parse the webpage content\n",
    "soup = bs4.BeautifulSoup(data.text, 'html.parser')\n",
    "\n",
    "# Step 3: Extract the blog title and body\n",
    "title = soup.find('h1').get_text()  # Assuming the title is in the <h1> tag\n",
    "body = soup.find('div', class_='mt-lg-4').get_text()  # Adjust class accordingly if different\n",
    "\n",
    "# Step 4: Combine the title and body\n",
    "combined_content = f\"{title}\\n{body}\"\n",
    "\n",
    "# Step 5: Store the combined content in a DataFrame\n",
    "df = pd.DataFrame({'Blog': [combined_content]})\n",
    "df.head()"
   ]
  },
  {
   "cell_type": "code",
   "execution_count": 10,
   "id": "57db32e3",
   "metadata": {},
   "outputs": [
    {
     "ename": "TypeError",
     "evalue": "'NoneType' object is not callable",
     "output_type": "error",
     "traceback": [
      "\u001b[1;31m---------------------------------------------------------------------------\u001b[0m",
      "\u001b[1;31mTypeError\u001b[0m                                 Traceback (most recent call last)",
      "Cell \u001b[1;32mIn[10], line 4\u001b[0m\n\u001b[0;32m      2\u001b[0m data1 \u001b[38;5;241m=\u001b[39m rt\u001b[38;5;241m.\u001b[39mget(url)\n\u001b[0;32m      3\u001b[0m sp \u001b[38;5;241m=\u001b[39m bs4\u001b[38;5;241m.\u001b[39mBeautifulSoup(data1\u001b[38;5;241m.\u001b[39mtext, \u001b[38;5;124m'\u001b[39m\u001b[38;5;124mhtml.parser\u001b[39m\u001b[38;5;124m'\u001b[39m)\n\u001b[1;32m----> 4\u001b[0m titles \u001b[38;5;241m=\u001b[39m sp\u001b[38;5;241m.\u001b[39mfind_all_(\u001b[38;5;124m'\u001b[39m\u001b[38;5;124mh2\u001b[39m\u001b[38;5;124m'\u001b[39m)\u001b[38;5;241m.\u001b[39mget_text()\n",
      "\u001b[1;31mTypeError\u001b[0m: 'NoneType' object is not callable"
     ]
    }
   ],
   "source": [
    "url = \"https://talantr.com/blog\"\n",
    "data1 = rt.get(url)\n",
    "sp = bs4.BeautifulSoup(data1.text, 'html.parser')\n",
    "titles = sp.find_all_('h2').get_text()"
   ]
  },
  {
   "cell_type": "code",
   "execution_count": 22,
   "id": "ba897506",
   "metadata": {},
   "outputs": [
    {
     "name": "stdout",
     "output_type": "stream",
     "text": [
      "                                              titles\n",
      "0  Elevate Your Career With Exciting Job Opportun...\n",
      "1  Vitalize Your Career With Job Opportunities At...\n",
      "2  Accelerate Your Career with CarMax: Find Excit...\n",
      "3  Top 6 Job Search Strategies To Stand Out (With...\n"
     ]
    }
   ],
   "source": [
    "import requests as rt\n",
    "import bs4\n",
    "import pandas as pd\n",
    "\n",
    "def extract_titles(url):\n",
    "    # Fetch the webpage\n",
    "    response = rt.get(url)\n",
    "    \n",
    "    # Parse the webpage content\n",
    "    soup = bs4.BeautifulSoup(response.text, 'html.parser')\n",
    "    \n",
    "    # Extract all titles in <h2> tags\n",
    "    titles = [h2.get_text() for h2 in soup.find_all('h2')]\n",
    "    \n",
    "    # Store the titles in a DataFrame\n",
    "    df = pd.DataFrame({'titles': titles})\n",
    "    \n",
    "    return df\n",
    "\n",
    "# Usage example\n",
    "url = \"https://talantr.com/blog\"\n",
    "df = extract_titles(url)\n",
    "\n"
   ]
  },
  {
   "cell_type": "code",
   "execution_count": 23,
   "id": "cebd727f",
   "metadata": {},
   "outputs": [
    {
     "data": {
      "text/html": [
       "<div>\n",
       "<style scoped>\n",
       "    .dataframe tbody tr th:only-of-type {\n",
       "        vertical-align: middle;\n",
       "    }\n",
       "\n",
       "    .dataframe tbody tr th {\n",
       "        vertical-align: top;\n",
       "    }\n",
       "\n",
       "    .dataframe thead th {\n",
       "        text-align: right;\n",
       "    }\n",
       "</style>\n",
       "<table border=\"1\" class=\"dataframe\">\n",
       "  <thead>\n",
       "    <tr style=\"text-align: right;\">\n",
       "      <th></th>\n",
       "      <th>titles</th>\n",
       "    </tr>\n",
       "  </thead>\n",
       "  <tbody>\n",
       "    <tr>\n",
       "      <th>0</th>\n",
       "      <td>Elevate Your Career With Exciting Job Opportun...</td>\n",
       "    </tr>\n",
       "    <tr>\n",
       "      <th>1</th>\n",
       "      <td>Vitalize Your Career With Job Opportunities At...</td>\n",
       "    </tr>\n",
       "    <tr>\n",
       "      <th>2</th>\n",
       "      <td>Accelerate Your Career with CarMax: Find Excit...</td>\n",
       "    </tr>\n",
       "    <tr>\n",
       "      <th>3</th>\n",
       "      <td>Top 6 Job Search Strategies To Stand Out (With...</td>\n",
       "    </tr>\n",
       "  </tbody>\n",
       "</table>\n",
       "</div>"
      ],
      "text/plain": [
       "                                              titles\n",
       "0  Elevate Your Career With Exciting Job Opportun...\n",
       "1  Vitalize Your Career With Job Opportunities At...\n",
       "2  Accelerate Your Career with CarMax: Find Excit...\n",
       "3  Top 6 Job Search Strategies To Stand Out (With..."
      ]
     },
     "execution_count": 23,
     "metadata": {},
     "output_type": "execute_result"
    }
   ],
   "source": [
    "df.head()"
   ]
  },
  {
   "cell_type": "code",
   "execution_count": 28,
   "id": "0e87e838",
   "metadata": {},
   "outputs": [
    {
     "name": "stdout",
     "output_type": "stream",
     "text": [
      "Empty DataFrame\n",
      "Columns: [Blog]\n",
      "Index: []\n"
     ]
    }
   ],
   "source": [
    "import requests as rt\n",
    "import bs4\n",
    "import pandas as pd\n",
    "\n",
    "def get_blog_links(url):\n",
    "    # Fetch the webpage\n",
    "    response = rt.get(url)\n",
    "    soup = bs4.BeautifulSoup(response.text, 'html.parser')\n",
    "    \n",
    "    # Extract blog titles and their URLs\n",
    "    blogs = []\n",
    "    for h2 in soup.find_all('h2'):\n",
    "        a_tag = h2.find('a')\n",
    "        if a_tag and a_tag['href']:\n",
    "            title = a_tag.get_text()\n",
    "            link = a_tag['href']\n",
    "            if not link.startswith('http'):\n",
    "                link = f\"https://talantr.com{link}\"\n",
    "            blogs.append((title, link))\n",
    "    \n",
    "    return blogs\n",
    "\n",
    "def get_blog_content(url):\n",
    "    # Fetch the webpage\n",
    "    response = rt.get(url)\n",
    "    soup = bs4.BeautifulSoup(response.text, 'html.parser')\n",
    "    \n",
    "    # Extract the blog title and body\n",
    "    title = soup.find('h1').get_text()  # Adjust if the title is in a different tag\n",
    "    body = soup.find('div', class_='mt-lg-4').get_text()  # Adjust the class name as needed\n",
    "    \n",
    "    return title, body\n",
    "\n",
    "def main():\n",
    "    blog_listing_url = \"https://talantr.com/blog\"\n",
    "    blog_links = get_blog_links(blog_listing_url)\n",
    "    \n",
    "    data = []\n",
    "    for title, link in blog_links:\n",
    "        blog_title, blog_content = get_blog_content(link)\n",
    "        combined_content = f\"{blog_title}\\n{blog_content}\"\n",
    "        data.append(combined_content)\n",
    "    \n",
    "    # Create DataFrame\n",
    "    df = pd.DataFrame({'Blog': data})\n",
    "    print(df)\n",
    "\n",
    "if __name__ == \"__main__\":\n",
    "    main()\n"
   ]
  },
  {
   "cell_type": "code",
   "execution_count": 3,
   "id": "c3b93d2c",
   "metadata": {},
   "outputs": [
    {
     "data": {
      "text/plain": [
       "[]"
      ]
     },
     "execution_count": 3,
     "metadata": {},
     "output_type": "execute_result"
    }
   ],
   "source": [
    "def get_blog_links(url):\n",
    "    # Fetch the webpage\n",
    "    data = rt.get(url)\n",
    "    soup = bs4.BeautifulSoup(data.text, 'html.parser')\n",
    "    blogs = []\n",
    "    for h2 in soup.find_all('h2'):\n",
    "        a_tag = h2.find('a', href=True)\n",
    "        if a_tag and a_tag['href']:\n",
    "            title = a_tag.get_text()\n",
    "            link = a_tag['href']\n",
    "            if not link.startswith('http'):\n",
    "                link = f\"https://talantr.com{link}\"\n",
    "            blogs.append((title, link))\n",
    "    \n",
    "    return blogs\n",
    "\n",
    "url = 'https://talantr.com/blog'\n",
    "get_blog_links(url)"
   ]
  },
  {
   "cell_type": "code",
   "execution_count": 21,
   "id": "5fc7969e",
   "metadata": {},
   "outputs": [
    {
     "name": "stdout",
     "output_type": "stream",
     "text": [
      "<h2 class=\"h4 text-start px-3 text-primary text-truncate\">Explore Career Opportunities with Refresco in Philadelphia: Top Jobs You Can't Miss!</h2>\n",
      "None\n",
      "<h2 class=\"h4 text-start px-3 text-primary text-truncate\">Elevate Your Career With Exciting Job Opportunities At Sodexo!</h2>\n",
      "None\n",
      "<h2 class=\"h4 text-start px-3 text-primary text-truncate\">Vitalize Your Career With Job Opportunities At Veyo</h2>\n",
      "None\n",
      "<h2 class=\"h4 text-start px-3 text-primary text-truncate\">Accelerate Your Career with CarMax: Find Exciting Job Opportunities</h2>\n",
      "None\n",
      "<h2 class=\"h4 text-start px-3 text-primary text-truncate\">Top 6 Job Search Strategies To Stand Out (With 3 Bonus Tips)</h2>\n",
      "None\n"
     ]
    }
   ],
   "source": [
    "data = rt.request(\"get\", \"https://talantr.com/blog\")\n",
    "sp = bs4.BeautifulSoup(data.text, 'html.parser')\n",
    "blogs = []\n",
    "for h2 in sp.find_all('h2'):\n",
    "    print(h2)\n",
    "    a_tag = h2.find('a')\n",
    "    print(a_tag)\n",
    "    if a_tag and a_tag.get('href'):\n",
    "        title = a_tag.get_text()\n",
    "        link = a_tag.get('href')\n",
    "        if not link.startswith('http'):\n",
    "            link = f\"https://talantr.com{link}\"\n",
    "            blogs.append((title, link))"
   ]
  },
  {
   "cell_type": "code",
   "execution_count": 17,
   "id": "69ffdff6-3a35-4226-9577-4246f49092d1",
   "metadata": {},
   "outputs": [
    {
     "name": "stdout",
     "output_type": "stream",
     "text": [
      "[<h2 class=\"h4 text-start px-3 text-primary text-truncate\">Explore Career Opportunities with Refresco in Philadelphia: Top Jobs You Can't Miss!</h2>, <h2 class=\"h4 text-start px-3 text-primary text-truncate\">Elevate Your Career With Exciting Job Opportunities At Sodexo!</h2>, <h2 class=\"h4 text-start px-3 text-primary text-truncate\">Vitalize Your Career With Job Opportunities At Veyo</h2>, <h2 class=\"h4 text-start px-3 text-primary text-truncate\">Accelerate Your Career with CarMax: Find Exciting Job Opportunities</h2>, <h2 class=\"h4 text-start px-3 text-primary text-truncate\">Top 6 Job Search Strategies To Stand Out (With 3 Bonus Tips)</h2>]\n"
     ]
    }
   ],
   "source": [
    "data = rt.request(\"get\", \"https://talantr.com/blog\")\n",
    "sp = bs4.BeautifulSoup(data.text, 'html.parser')\n",
    "print(sp.find_all('h2'))"
   ]
  },
  {
   "cell_type": "code",
   "execution_count": null,
   "id": "62df27d5-ac21-4539-a6d4-416cdea23492",
   "metadata": {},
   "outputs": [],
   "source": []
  },
  {
   "cell_type": "code",
   "execution_count": null,
   "id": "01a5c0e7-90cd-4fe0-840a-27d2bad20311",
   "metadata": {},
   "outputs": [],
   "source": []
  }
 ],
 "metadata": {
  "kernelspec": {
   "display_name": "Python 3 (ipykernel)",
   "language": "python",
   "name": "python3"
  },
  "language_info": {
   "codemirror_mode": {
    "name": "ipython",
    "version": 3
   },
   "file_extension": ".py",
   "mimetype": "text/x-python",
   "name": "python",
   "nbconvert_exporter": "python",
   "pygments_lexer": "ipython3",
   "version": "3.11.7"
  }
 },
 "nbformat": 4,
 "nbformat_minor": 5
}
