{
 "cells": [
  {
   "cell_type": "code",
   "execution_count": 1,
   "id": "3230b9f2-3399-44ec-9e61-3bb66288d37b",
   "metadata": {},
   "outputs": [],
   "source": [
    "import pandas as pd\n",
    "import sqlite3\n"
   ]
  },
  {
   "cell_type": "code",
   "execution_count": 3,
   "id": "5c4e604b-b908-4246-af2d-b378f1d12a6e",
   "metadata": {},
   "outputs": [],
   "source": [
    "#df_main = pd.read_csv(\"C://Users/CPS/Downloads/tutor_data - tutor_data.csv\")\n",
    "#df_send = pd.read_csv(\"C://Users/CPS/Documents/tutor_dummy_data/changes/tutor_data_grouped_ratings.csv\")\n",
    "db_path = 'C://Users/CPS/Documents/tutor_dummy_data/database/tutor_database.db'\n",
    "conn = sqlite3.connect(db_path)"
   ]
  },
  {
   "cell_type": "code",
   "execution_count": 48,
   "id": "f4143f7f-f5fd-4ccb-b468-440dba616793",
   "metadata": {},
   "outputs": [
    {
     "data": {
      "text/plain": [
       "3514"
      ]
     },
     "execution_count": 48,
     "metadata": {},
     "output_type": "execute_result"
    }
   ],
   "source": [
    "df_main.to_sql('tutor_data_main', conn, index=False)\n",
    "df_send.to_sql('tutor_data_send', conn, index=False)\n"
   ]
  },
  {
   "cell_type": "code",
   "execution_count": 50,
   "id": "d8ffe26a-7adc-4bc2-b3e9-ec29679cdd1a",
   "metadata": {},
   "outputs": [
    {
     "data": {
      "text/plain": [
       "1576"
      ]
     },
     "execution_count": 50,
     "metadata": {},
     "output_type": "execute_result"
    }
   ],
   "source": [
    "pd.read_sql(\"select * from tutor_data_main where Name not in (select Name from tutor_data_send)\", conn).shape[0]"
   ]
  },
  {
   "cell_type": "code",
   "execution_count": 7,
   "id": "dcb300ed-4690-4b0d-b65d-f11c0b787d8d",
   "metadata": {},
   "outputs": [
    {
     "ename": "SyntaxError",
     "evalue": "unterminated string literal (detected at line 1) (303055613.py, line 1)",
     "output_type": "error",
     "traceback": [
      "\u001b[1;36m  Cell \u001b[1;32mIn[7], line 1\u001b[1;36m\u001b[0m\n\u001b[1;33m    pd.read_sql(\"select count(distinct(State_code)) from tutor_data_main , conn)\u001b[0m\n\u001b[1;37m                ^\u001b[0m\n\u001b[1;31mSyntaxError\u001b[0m\u001b[1;31m:\u001b[0m unterminated string literal (detected at line 1)\n"
     ]
    }
   ],
   "source": [
    "pd.read_sql(\"select count(distinct(State_code)) from tutor_data_main , conn)"
   ]
  },
  {
   "cell_type": "code",
   "execution_count": null,
   "id": "5dcd9569-4f08-4852-b4b2-abceb8b991ac",
   "metadata": {},
   "outputs": [],
   "source": [
    "query = \"SELECT * FROM tutor_data;\"\n",
    "result = pd.read_sql(query, conn)\n",
    "print(\"Data in the 'tutor_data' table:\")\n",
    "print(result)\n",
    "\n",
    "# Close the database connection\n",
    "conn.close()"
   ]
  },
  {
   "cell_type": "code",
   "execution_count": null,
   "id": "66ab9994-a157-42b9-8372-cabd99cfc3f1",
   "metadata": {},
   "outputs": [],
   "source": []
  },
  {
   "cell_type": "code",
   "execution_count": null,
   "id": "6bad8d4d-1cb5-4ff6-9209-c7117354ecfb",
   "metadata": {},
   "outputs": [],
   "source": []
  }
 ],
 "metadata": {
  "kernelspec": {
   "display_name": "Python 3 (ipykernel)",
   "language": "python",
   "name": "python3"
  },
  "language_info": {
   "codemirror_mode": {
    "name": "ipython",
    "version": 3
   },
   "file_extension": ".py",
   "mimetype": "text/x-python",
   "name": "python",
   "nbconvert_exporter": "python",
   "pygments_lexer": "ipython3",
   "version": "3.11.7"
  }
 },
 "nbformat": 4,
 "nbformat_minor": 5
}
